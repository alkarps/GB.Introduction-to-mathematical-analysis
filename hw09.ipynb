{
  "nbformat": 4,
  "nbformat_minor": 0,
  "metadata": {
    "colab": {
      "provenance": [],
      "authorship_tag": "ABX9TyM+vqE1z56wi0WwGc24A89X",
      "include_colab_link": true
    },
    "kernelspec": {
      "name": "python3",
      "display_name": "Python 3"
    },
    "language_info": {
      "name": "python"
    }
  },
  "cells": [
    {
      "cell_type": "markdown",
      "metadata": {
        "id": "view-in-github",
        "colab_type": "text"
      },
      "source": [
        "<a href=\"https://colab.research.google.com/github/alkarps/GB.Introduction-to-mathematical-analysis/blob/hw09/hw09.ipynb\" target=\"_parent\"><img src=\"https://colab.research.google.com/assets/colab-badge.svg\" alt=\"Open In Colab\"/></a>"
      ]
    },
    {
      "cell_type": "markdown",
      "source": [
        "##Домашнее задание к лекции №9"
      ],
      "metadata": {
        "id": "S2pJKtl0UVku"
      }
    },
    {
      "cell_type": "markdown",
      "source": [
        "###Задание №1"
      ],
      "metadata": {
        "id": "guWBQciCZG8s"
      }
    },
    {
      "cell_type": "markdown",
      "source": [
        "Найти $\\frac{dz}{dt}$, если $z=z(x,y)$, $x=x(t)$, $y=y(t)$:"
      ],
      "metadata": {
        "id": "kJ_gGRdzZJbG"
      }
    },
    {
      "cell_type": "markdown",
      "source": [
        "1. $z=x^2+y^2+x⋅y$, $x=a⋅\\sin{t}$, $y=a⋅\\cos{t}$;"
      ],
      "metadata": {
        "id": "GiNY-uODG8xX"
      }
    },
    {
      "cell_type": "markdown",
      "source": [
        "$$\\frac{dz}{dx}=2⋅x+y$$\n",
        "$$\\frac{dz}{dy}=2⋅y+x$$\n",
        "$$\\frac{dx}{dt}=a⋅\\cos{t}$$\n",
        "$$\\frac{dy}{dt}=-a⋅\\sin{t}$$\n",
        "$$\\frac{dz}{dt}=\\frac{dz}{dx}⋅\\frac{dx}{dt}+\\frac{dz}{dy}⋅\\frac{dy}{dt}=(2⋅x+y)⋅a⋅\\cos{t}-a⋅\\sin{t}⋅(2⋅y+x)=a^2⋅(2⋅\\sin{t}+\\cos{t})⋅\\cos{t}-a^2⋅\\sin{t}⋅(2⋅\\cos{t}+\\sin{t})$$"
      ],
      "metadata": {
        "id": "wcb8hN60HNFo"
      }
    },
    {
      "cell_type": "markdown",
      "source": [
        "###Задание №2"
      ],
      "metadata": {
        "id": "N5gJB0UrZJsX"
      }
    },
    {
      "cell_type": "markdown",
      "source": [],
      "metadata": {
        "id": "FcEy0qYtZMrl"
      }
    },
    {
      "cell_type": "markdown",
      "source": [
        "###Задание №3"
      ],
      "metadata": {
        "id": "ijlsTBh-ZM34"
      }
    },
    {
      "cell_type": "markdown",
      "source": [],
      "metadata": {
        "id": "-JmeAbRtZPK2"
      }
    },
    {
      "cell_type": "markdown",
      "source": [
        "###Задание №4"
      ],
      "metadata": {
        "id": "BBbALMM3ZPgQ"
      }
    },
    {
      "cell_type": "markdown",
      "source": [],
      "metadata": {
        "id": "ifJNqbKVZRgU"
      }
    },
    {
      "cell_type": "markdown",
      "source": [
        "###Задание №5"
      ],
      "metadata": {
        "id": "g6E7Km8VZRy7"
      }
    },
    {
      "cell_type": "markdown",
      "source": [],
      "metadata": {
        "id": "qjO9TvwOZVQH"
      }
    }
  ]
}