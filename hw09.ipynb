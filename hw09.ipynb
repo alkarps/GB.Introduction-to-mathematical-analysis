{
  "nbformat": 4,
  "nbformat_minor": 0,
  "metadata": {
    "colab": {
      "provenance": [],
      "authorship_tag": "ABX9TyMwEHWBRMUBnITq25u800Kv",
      "include_colab_link": true
    },
    "kernelspec": {
      "name": "python3",
      "display_name": "Python 3"
    },
    "language_info": {
      "name": "python"
    }
  },
  "cells": [
    {
      "cell_type": "markdown",
      "metadata": {
        "id": "view-in-github",
        "colab_type": "text"
      },
      "source": [
        "<a href=\"https://colab.research.google.com/github/alkarps/GB.Introduction-to-mathematical-analysis/blob/hw09/hw09.ipynb\" target=\"_parent\"><img src=\"https://colab.research.google.com/assets/colab-badge.svg\" alt=\"Open In Colab\"/></a>"
      ]
    },
    {
      "cell_type": "markdown",
      "source": [
        "##Домашнее задание к лекции №9"
      ],
      "metadata": {
        "id": "S2pJKtl0UVku"
      }
    },
    {
      "cell_type": "markdown",
      "source": [
        "###Задание №1"
      ],
      "metadata": {
        "id": "guWBQciCZG8s"
      }
    },
    {
      "cell_type": "markdown",
      "source": [
        "Найти $\\frac{dz}{dt}$, если $z=z(x,y)$, $x=x(t)$, $y=y(t)$:"
      ],
      "metadata": {
        "id": "kJ_gGRdzZJbG"
      }
    },
    {
      "cell_type": "markdown",
      "source": [
        "1. $z=x^2+y^2+x⋅y$, $x=a⋅\\sin{t}$, $y=a⋅\\cos{t}$;"
      ],
      "metadata": {
        "id": "GiNY-uODG8xX"
      }
    },
    {
      "cell_type": "markdown",
      "source": [
        "$$\\frac{dz}{dx}=2⋅x+y$$\n",
        "$$\\frac{dz}{dy}=2⋅y+x$$\n",
        "$$\\frac{dx}{dt}=a⋅\\cos{t}$$\n",
        "$$\\frac{dy}{dt}=-a⋅\\sin{t}$$\n",
        "$$\\frac{dz}{dt}=\\frac{dz}{dx}⋅\\frac{dx}{dt}+\\frac{dz}{dy}⋅\\frac{dy}{dt}=(2⋅x+y)⋅a⋅\\cos{t}-a⋅\\sin{t}⋅(2⋅y+x)=a^2⋅(2⋅\\sin{t}+\\cos{t})⋅\\cos{t}-a^2⋅\\sin{t}⋅(2⋅\\cos{t}+\\sin{t})$$"
      ],
      "metadata": {
        "id": "wcb8hN60HNFo"
      }
    },
    {
      "cell_type": "markdown",
      "source": [
        "###Задание №2"
      ],
      "metadata": {
        "id": "N5gJB0UrZJsX"
      }
    },
    {
      "cell_type": "markdown",
      "source": [
        "Для данных $z=f(x,y)$, $x=x(u,v)$, $y=y(u,v)$ найти $\\frac{∂z}{∂u}$,$\\frac{∂z}{∂v}$ и $dz$:"
      ],
      "metadata": {
        "id": "FcEy0qYtZMrl"
      }
    },
    {
      "cell_type": "markdown",
      "source": [
        "1. $z=x^3+y^3$, где $x=u⋅v$, $y=\\frac{u}{v}$;"
      ],
      "metadata": {
        "id": "LbzX18jwJxWl"
      }
    },
    {
      "cell_type": "markdown",
      "source": [
        "$$\\frac{dz}{dx}=3⋅x^2$$\n",
        "$$\\frac{dz}{dy}=3⋅y^2$$\n",
        "$$\\frac{dx}{du}=v$$\n",
        "$$\\frac{dx}{dv}=u$$\n",
        "$$\\frac{dy}{du}=\\frac{1}{v}$$\n",
        "$$\\frac{dy}{dv}=-\\frac{u}{v^2}$$\n",
        "$$\\frac{dz}{du}=\\frac{dz}{dx}⋅\\frac{dx}{du}+\\frac{dz}{dy}⋅\\frac{dy}{du}=3⋅u^2⋅v^3+3⋅\\frac{u^2}{v^3}$$\n",
        "$$\\frac{dz}{dv}=\\frac{dz}{dx}⋅\\frac{dx}{dv}+\\frac{dz}{dy}⋅\\frac{dy}{dv}=3⋅u^3⋅v^2-3⋅\\frac{u^3}{v^4}$$\n",
        "$$dz=\\frac{dz}{du}+\\frac{dz}{dv}=3⋅u^2⋅v^3+3⋅\\frac{u^2}{v^3}+3⋅u^3⋅u^2-3⋅\\frac{u^3}{v^4}$$"
      ],
      "metadata": {
        "id": "9prtdPguKV5C"
      }
    },
    {
      "cell_type": "markdown",
      "source": [
        "###Задание №3"
      ],
      "metadata": {
        "id": "ijlsTBh-ZM34"
      }
    },
    {
      "cell_type": "markdown",
      "source": [
        "Найти производные $y'(x)$ неявных функций, заданных уравнениями:"
      ],
      "metadata": {
        "id": "-JmeAbRtZPK2"
      }
    },
    {
      "cell_type": "markdown",
      "source": [
        "1. $x⋅e^{2⋅y}−y⋅\\ln{x}=8$."
      ],
      "metadata": {
        "id": "ASljSWfrQs56"
      }
    },
    {
      "cell_type": "markdown",
      "source": [
        "$$y'(x)=\\frac{-e^{2⋅y}+\\frac{y}{x}}{e^{2⋅y}⋅2⋅x-\\ln{x}}$$"
      ],
      "metadata": {
        "id": "ER90EOkmRIGr"
      }
    },
    {
      "cell_type": "markdown",
      "source": [
        "###Задание №4"
      ],
      "metadata": {
        "id": "BBbALMM3ZPgQ"
      }
    },
    {
      "cell_type": "markdown",
      "source": [
        "Составить уравнение касательной прямой и нормали к кривой $y=y(x)$, заданной уравнением $F(x,y)=0$ в точке ${M_0(x_0; y_0)}$:"
      ],
      "metadata": {
        "id": "ifJNqbKVZRgU"
      }
    },
    {
      "cell_type": "markdown",
      "source": [
        "1. $x^3⋅y−y^3⋅x=6$, $M_0(2;1)$."
      ],
      "metadata": {
        "id": "rj2m36DgRuKM"
      }
    },
    {
      "cell_type": "markdown",
      "source": [
        "$$\\frac{dF(x,y)}{dx}=3⋅x^2⋅y-y^3$$\n",
        "$$\\frac{dF(x,y)}{dy}=x^3-3⋅x⋅y^2$$\n",
        "$$\\frac{dy}{dx}=\\frac{y^3-3⋅x^2⋅y}{x^3-3⋅x⋅y^2}$$\n",
        "$$F'(M_0)=-\\frac{11}{2}$$\n",
        "$$y_k=12-\\frac{11⋅x}{2}$$\n",
        "$$y_n=\\frac{2⋅x}{11}+\\frac{7}{11}$$"
      ],
      "metadata": {
        "id": "vEeOEGfZSSzC"
      }
    },
    {
      "cell_type": "markdown",
      "source": [
        "###Задание №5"
      ],
      "metadata": {
        "id": "g6E7Km8VZRy7"
      }
    },
    {
      "cell_type": "markdown",
      "source": [
        "Для данных функций найти требуемую частную производную или дифференциал:"
      ],
      "metadata": {
        "id": "qjO9TvwOZVQH"
      }
    },
    {
      "cell_type": "markdown",
      "source": [
        "1. $z=\\sin{x}⋅\\sin{y}$, ${d^2z}$;"
      ],
      "metadata": {
        "id": "BQC7An8BYTHI"
      }
    },
    {
      "cell_type": "markdown",
      "source": [
        "$$dz=\\frac{dz}{dx}+\\frac{dz}{dy}=\\cos{x}⋅\\sin{y}+\\cos{y}⋅\\sin{x}$$\n",
        "$$d^2z=-2⋅\\sin{x}⋅\\sin{y}+2⋅\\cos{y}⋅\\cos{x}$$"
      ],
      "metadata": {
        "id": "ASMv2QZdYg7B"
      }
    },
    {
      "cell_type": "markdown",
      "source": [
        "2. $z=x⋅y+\\sin{(x + y)}$,$\\frac{∂^2z}{∂x^2}$;"
      ],
      "metadata": {
        "id": "n6KcRvoSYhOt"
      }
    },
    {
      "cell_type": "markdown",
      "source": [
        "$$\\frac{dz}{dx}=y+\\cos{x+y}$$\n",
        "$$\\frac{d^2z}{dx^2}=-\\sin{x+y}$$"
      ],
      "metadata": {
        "id": "vUAYd7jDYscH"
      }
    }
  ]
}