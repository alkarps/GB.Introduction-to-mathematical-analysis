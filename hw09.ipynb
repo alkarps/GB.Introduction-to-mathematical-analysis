{
  "nbformat": 4,
  "nbformat_minor": 0,
  "metadata": {
    "colab": {
      "provenance": [],
      "authorship_tag": "ABX9TyO9DkgS2Bh6Rhd27azy/RC9",
      "include_colab_link": true
    },
    "kernelspec": {
      "name": "python3",
      "display_name": "Python 3"
    },
    "language_info": {
      "name": "python"
    }
  },
  "cells": [
    {
      "cell_type": "markdown",
      "metadata": {
        "id": "view-in-github",
        "colab_type": "text"
      },
      "source": [
        "<a href=\"https://colab.research.google.com/github/alkarps/GB.Introduction-to-mathematical-analysis/blob/hw09/hw09.ipynb\" target=\"_parent\"><img src=\"https://colab.research.google.com/assets/colab-badge.svg\" alt=\"Open In Colab\"/></a>"
      ]
    },
    {
      "cell_type": "markdown",
      "source": [
        "##Домашнее задание к лекции №9"
      ],
      "metadata": {
        "id": "S2pJKtl0UVku"
      }
    },
    {
      "cell_type": "markdown",
      "source": [
        "###Задание №1"
      ],
      "metadata": {
        "id": "guWBQciCZG8s"
      }
    },
    {
      "cell_type": "markdown",
      "source": [],
      "metadata": {
        "id": "kJ_gGRdzZJbG"
      }
    },
    {
      "cell_type": "markdown",
      "source": [
        "###Задание №2"
      ],
      "metadata": {
        "id": "N5gJB0UrZJsX"
      }
    },
    {
      "cell_type": "markdown",
      "source": [],
      "metadata": {
        "id": "FcEy0qYtZMrl"
      }
    },
    {
      "cell_type": "markdown",
      "source": [
        "###Задание №3"
      ],
      "metadata": {
        "id": "ijlsTBh-ZM34"
      }
    },
    {
      "cell_type": "markdown",
      "source": [],
      "metadata": {
        "id": "-JmeAbRtZPK2"
      }
    },
    {
      "cell_type": "markdown",
      "source": [
        "###Задание №4"
      ],
      "metadata": {
        "id": "BBbALMM3ZPgQ"
      }
    },
    {
      "cell_type": "markdown",
      "source": [],
      "metadata": {
        "id": "ifJNqbKVZRgU"
      }
    },
    {
      "cell_type": "markdown",
      "source": [
        "###Задание №5"
      ],
      "metadata": {
        "id": "g6E7Km8VZRy7"
      }
    },
    {
      "cell_type": "markdown",
      "source": [],
      "metadata": {
        "id": "qjO9TvwOZVQH"
      }
    }
  ]
}