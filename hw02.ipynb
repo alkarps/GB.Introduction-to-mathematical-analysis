{
  "nbformat": 4,
  "nbformat_minor": 0,
  "metadata": {
    "colab": {
      "provenance": [],
      "authorship_tag": "ABX9TyPirwLI2z1aOfCUv8z/4jBo",
      "include_colab_link": true
    },
    "kernelspec": {
      "name": "python3",
      "display_name": "Python 3"
    },
    "language_info": {
      "name": "python"
    }
  },
  "cells": [
    {
      "cell_type": "markdown",
      "metadata": {
        "id": "view-in-github",
        "colab_type": "text"
      },
      "source": [
        "<a href=\"https://colab.research.google.com/github/alkarps/GB.Introduction-to-mathematical-analysis/blob/hw02/hw02.ipynb\" target=\"_parent\"><img src=\"https://colab.research.google.com/assets/colab-badge.svg\" alt=\"Open In Colab\"/></a>"
      ]
    },
    {
      "cell_type": "markdown",
      "source": [
        "## Практическое задание к лекции №2"
      ],
      "metadata": {
        "id": "1vQVhtE4PyMn"
      }
    },
    {
      "cell_type": "markdown",
      "source": [
        "### Задание №1"
      ],
      "metadata": {
        "id": "fjMT3SydP4bS"
      }
    },
    {
      "cell_type": "markdown",
      "source": [
        "Представьте в виде несократимой рациональной дроби:\n",
        "1.   0.(216);\n",
        "2.   1.0(01)."
      ],
      "metadata": {
        "id": "PmBTdfIDQBM2"
      }
    },
    {
      "cell_type": "markdown",
      "source": [
        "$$a=0.(216)$$\n",
        "$$1000a=216.(216)$$\n",
        "$$1000a=216 + 0.(216)$$\n",
        "$$1000a = 216 + a$$\n",
        "$$999a=216$$\n",
        "$$a=\\frac{216}{999}$$\n",
        "$$a=\\frac{72}{333}$$"
      ],
      "metadata": {
        "id": "emRV4-A3QSDq"
      }
    },
    {
      "cell_type": "code",
      "source": [
        "72/333"
      ],
      "metadata": {
        "colab": {
          "base_uri": "https://localhost:8080/"
        },
        "id": "J4lJ75j6RWfG",
        "outputId": "9b5c59c5-69aa-49d5-882a-88fd71daf29f"
      },
      "execution_count": 2,
      "outputs": [
        {
          "output_type": "execute_result",
          "data": {
            "text/plain": [
              "0.21621621621621623"
            ]
          },
          "metadata": {},
          "execution_count": 2
        }
      ]
    },
    {
      "cell_type": "markdown",
      "source": [
        "$$a=1.0(01)$$\n",
        "$$10a=10.(01)$$\n",
        "$$10a=10+0.(01)$$\n",
        "$$10a=10+b; b=0.(01)$$\n",
        "$$10a=10+b; 100b=1.(01)$$\n",
        "$$10a=10+b; 100b=1+0.(01)$$\n",
        "$$10a=10+b; 100b=1+b$$\n",
        "$$10a=10+b; 99b=1$$\n",
        "$$10a=10+b; b=\\frac{1}{99}$$\n",
        "$$10a=10+\\frac{1}{99}$$\n",
        "$$10a=\\frac{991}{99}$$\n",
        "$$a=\\frac{991}{990}$$"
      ],
      "metadata": {
        "id": "RwDqlr6yRosa"
      }
    },
    {
      "cell_type": "code",
      "source": [
        "991/990"
      ],
      "metadata": {
        "colab": {
          "base_uri": "https://localhost:8080/"
        },
        "id": "hQYFx5QrSs8L",
        "outputId": "1b7ce113-04e4-4fc7-d05a-1bfdb40922df"
      },
      "execution_count": 3,
      "outputs": [
        {
          "output_type": "execute_result",
          "data": {
            "text/plain": [
              "1.001010101010101"
            ]
          },
          "metadata": {},
          "execution_count": 3
        }
      ]
    },
    {
      "cell_type": "markdown",
      "source": [
        "### Задание №2"
      ],
      "metadata": {
        "id": "dyi7Lsk7QBjm"
      }
    },
    {
      "cell_type": "markdown",
      "source": [
        "Проверьте любым способом, являются ли данные логические формулы\n",
        "тавтологией:\n",
        "1.   $(A \\lor B) \\to (B \\lor \\overline{A})$\n",
        "2.   $A \\to (A \\lor (\\overline{B} \\land A))$"
      ],
      "metadata": {
        "id": "GJ60sni1QCS5"
      }
    },
    {
      "cell_type": "markdown",
      "source": [
        "|$A$ | $B$ | $A \\lor B$ | $\\overline{A}$ | $B \\lor \\overline{A}$ | $(A \\lor B) \\to (B \\lor \\overline{A})$|\n",
        "|----|----|----|---|-----|---------------|\n",
        "|0|0|0|1|1|1|\n",
        "|0|1|1|1|1|1|\n",
        "|1|0|1|0|0|0|\n",
        "|1|1|1|1|1|1|"
      ],
      "metadata": {
        "id": "3NApheEMa9dj"
      }
    },
    {
      "cell_type": "markdown",
      "source": [
        "|$A$ | $B$ | $\\overline{B}$ | $\\overline{B} \\land A$ | $(A \\lor (\\overline{B} \\land A))$ | $A \\to (A \\lor (\\overline{B} \\land A))$|\n",
        "|----|----|----|---|-----|---------------|\n",
        "|0|0|1|0|0|1|\n",
        "|0|1|0|0|0|1|\n",
        "|1|0|1|1|1|1|\n",
        "|1|1|0|0|1|1|"
      ],
      "metadata": {
        "id": "_hk5ZMmNeJfr"
      }
    },
    {
      "cell_type": "markdown",
      "source": [
        "### Задание №3"
      ],
      "metadata": {
        "id": "5Q-eyuQ-QChd"
      }
    },
    {
      "cell_type": "markdown",
      "source": [
        "Сформулируйте словесно высказывания:\n",
        "1.   $(\\overline{A} \\lor B) \\to \\overline{C}$\n",
        "2.   $C \\to (A \\lor \\overline{B})$\n",
        "\n",
        "где А: сегодня светит солнце; В: сегодня сыро; С: я поеду на дачу."
      ],
      "metadata": {
        "id": "qO0wZwoPUu0o"
      }
    },
    {
      "cell_type": "markdown",
      "source": [],
      "metadata": {
        "id": "1SBBIiyxVBWq"
      }
    },
    {
      "cell_type": "markdown",
      "source": [
        "1.   Если сегодня не светит солнце или сегодня сыро, то я не поеду на дачу.\n",
        "2.   Если я поеду на дачу, то сегодня светит солнце или сегодня не сыро.\n",
        "\n"
      ],
      "metadata": {
        "id": "XXCL22DJesyr"
      }
    }
  ]
}