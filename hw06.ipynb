{
  "nbformat": 4,
  "nbformat_minor": 0,
  "metadata": {
    "colab": {
      "provenance": [],
      "authorship_tag": "ABX9TyOTMuat1wBSiYtzXFPms/mG",
      "include_colab_link": true
    },
    "kernelspec": {
      "name": "python3",
      "display_name": "Python 3"
    },
    "language_info": {
      "name": "python"
    }
  },
  "cells": [
    {
      "cell_type": "markdown",
      "metadata": {
        "id": "view-in-github",
        "colab_type": "text"
      },
      "source": [
        "<a href=\"https://colab.research.google.com/github/alkarps/GB.Introduction-to-mathematical-analysis/blob/hw06/hw06.ipynb\" target=\"_parent\"><img src=\"https://colab.research.google.com/assets/colab-badge.svg\" alt=\"Open In Colab\"/></a>"
      ]
    },
    {
      "cell_type": "markdown",
      "source": [
        "##Практическое задание к лекции №6"
      ],
      "metadata": {
        "id": "JwUlgGKGz6Bb"
      }
    },
    {
      "cell_type": "markdown",
      "source": [
        "### Задание №1"
      ],
      "metadata": {
        "id": "yyjDSzyD0Dcw"
      }
    },
    {
      "cell_type": "markdown",
      "source": [
        "Найти производные указанных функций:"
      ],
      "metadata": {
        "id": "JGorxrAf35D9"
      }
    },
    {
      "cell_type": "markdown",
      "source": [
        "1. $y=x^3⋅\\log_2{x}$;"
      ],
      "metadata": {
        "id": "tRWydKwI5WNq"
      }
    },
    {
      "cell_type": "markdown",
      "source": [
        "$$y'=(x^3⋅\\log_2{x})'=(\\frac{x^3⋅\\ln{x}}{\\ln{2}})=\\frac{(x^3)'⋅\\ln{x}+x^3⋅(\\ln{x})'}{\\ln{2}}=\\frac{3⋅x^2⋅\\ln{x}+x^2}{\\ln{2}}$$"
      ],
      "metadata": {
        "id": "9vTgyEAT5lg_"
      }
    },
    {
      "cell_type": "markdown",
      "source": [
        "2. $y=-10⋅\\arctan{x}+7⋅e^x$;"
      ],
      "metadata": {
        "id": "88GLzvzf5ngE"
      }
    },
    {
      "cell_type": "markdown",
      "source": [
        "$$y'=(-10⋅\\arctan{x}+7⋅e^x)'=-10⋅(\\arctan{x})'+7(e^x)'=-\\frac{10}{x^2+1}+7⋅e^x$$"
      ],
      "metadata": {
        "id": "x6Q6IOPc51B8"
      }
    },
    {
      "cell_type": "markdown",
      "source": [
        "3. $y=\\frac{1}{\\sqrt[3]{x^2}}-\\frac{2}{x^3}+\\sqrt{7}⋅x$;"
      ],
      "metadata": {
        "id": "N6KB6n__51aB"
      }
    },
    {
      "cell_type": "markdown",
      "source": [
        "$$y'=(\\frac{1}{\\sqrt[3]{x^2}}-\\frac{2}{x^3}+\\sqrt{7}⋅x)'=(\\frac{1}{\\sqrt[3]{x^2}})'-(\\frac{2}{x^3})'+(\\sqrt{7}⋅(x)'=\\sqrt{7}+\\frac{6}{x^4}-\\frac{2}{3⋅\\sqrt[3]{x^5}}$$"
      ],
      "metadata": {
        "id": "rWJaQaDX6J-P"
      }
    },
    {
      "cell_type": "markdown",
      "source": [
        "4. $y=\\cos{\\frac{1-\\sqrt{x}}{1+\\sqrt{x}}}$;"
      ],
      "metadata": {
        "id": "0_pFQrM26KT6"
      }
    },
    {
      "cell_type": "markdown",
      "source": [
        "$$y'=(\\cos{\\frac{1-\\sqrt{x}}{1+\\sqrt{x}}})'=-\\sin{\\frac{1-\\sqrt{x}}{1+\\sqrt{x}}}⋅(\\frac{1-\\sqrt{x}}{1+\\sqrt{x}})'=-\\sin{\\frac{1-\\sqrt{x}}{1+\\sqrt{x}}}⋅\\frac{(1-\\sqrt{x})'⋅(1+\\sqrt{x})-(1+\\sqrt{x})'⋅(1-\\sqrt{x})}{(1+\\sqrt{x})^2}=-\\sin{\\frac{1-\\sqrt{x}}{1+\\sqrt{x}}}⋅\\frac{\\frac{-\\sqrt{x}-1}{2⋅\\sqrt{x}}-\\frac{1-\\sqrt{x}}{2⋅\\sqrt{x}}}{(1+\\sqrt{x})^2}=\\frac{\\sin{\\frac{1-\\sqrt{x}}{1+\\sqrt{x}}}}{\\sqrt{x}⋅(1+\\sqrt{x})^2}$$"
      ],
      "metadata": {
        "id": "_abyfy4f6ZwX"
      }
    },
    {
      "cell_type": "markdown",
      "source": [
        "5. $y=e^{\\sinh^2{5⋅x}}$;"
      ],
      "metadata": {
        "id": "AlY4C_vy6aKu"
      }
    },
    {
      "cell_type": "markdown",
      "source": [
        "$$y'=(e^{\\sinh^2{5⋅x}})'=10⋅e^{\\sinh^2{5⋅x}}⋅cosh{5⋅x}⋅\\sinh{5⋅x}$$"
      ],
      "metadata": {
        "id": "ZwqhIfGz9Vg6"
      }
    },
    {
      "cell_type": "markdown",
      "source": [
        "6. $y=\\ln{\\frac{(x+1)⋅(x+3)^3}{(x+2)^3⋅(x+4)}}$;"
      ],
      "metadata": {
        "id": "JvPxy1Tc9V9O"
      }
    },
    {
      "cell_type": "markdown",
      "source": [
        "$$y'=(\\ln{\\frac{(x+1)⋅(x+3)^3}{(x+2)^3⋅(x+4)}})'=\\frac{(x+2)^3⋅(x+4)}{(x+1)⋅(x+3)^3}⋅(\\frac{(x+1)⋅(x+3)^3}{(x+2)^3⋅(x+4)})'=\\frac{(x+2)^3⋅(x+4)}{(x+1)⋅(x+3)^3}⋅\\frac{((x+1)⋅(x+3)^3)'⋅(x+2)^3⋅(x+4)-((x+2)^3⋅(x+4))'⋅(x+1)⋅(x+3)^3}{(x+2)^6⋅(x+4)^2}=\\frac{((x+1)'⋅(x+3)^3+((x+3)^3)'⋅(x+1))⋅(x+2)^3⋅(x+4)-(((x+2)^3)'⋅(x+4)+(x+4)'⋅(x+2)^3)⋅(x+1)⋅(x+3)^3}{(x+1)⋅(x+3)^3⋅(x+2)^3⋅(x+4)}=\\frac{6}{x^4+10⋅x^3+35⋅x^2+50⋅x+24}$$"
      ],
      "metadata": {
        "id": "9fWEK6hy9o0a"
      }
    },
    {
      "cell_type": "markdown",
      "source": [
        "7. $y=\\frac{\\sin^2{x}}{\\cot{x}+1}+\\frac{\\cos^2{x}}{\\tan{x}+1}$."
      ],
      "metadata": {
        "id": "zV6RlyFS9pMf"
      }
    },
    {
      "cell_type": "markdown",
      "source": [
        "$$y'=(\\frac{\\sin^2{x}}{\\cot{x}+1}+\\frac{\\cos^2{x}}{\\tan{x}+1})'=\\frac{-2⋅\\cos{x}⋅\\sin{x}⋅(\\tan{x}+1)-1}{(\\tan{x}+1)^2}+\\frac{2⋅\\cos{x}⋅\\sin{x}⋅(\\cot{x}+1)+1}{(\\cot{x}+1)^2}$$"
      ],
      "metadata": {
        "id": "F1HMbJV8PO4w"
      }
    },
    {
      "cell_type": "markdown",
      "source": [
        "### Задание №2"
      ],
      "metadata": {
        "id": "RtfOa-eH35X3"
      }
    },
    {
      "cell_type": "markdown",
      "source": [
        "Найти производную данной функции в точке:"
      ],
      "metadata": {
        "id": "sClwtiBq3-TP"
      }
    },
    {
      "cell_type": "markdown",
      "source": [
        "1. $y=\\frac{\\ln{x}}{x}$, ${x_0=e}$;"
      ],
      "metadata": {
        "id": "ZlPoDEfq986q"
      }
    },
    {
      "cell_type": "markdown",
      "source": [
        "$$y'(x_0)=(\\frac{\\ln{x_0}}{x_0})'=\\frac{1}{x_0^2}-\\frac{\\ln{x_0}}{x_0^2}=\\frac{1}{e^2}-\\frac{\\ln{e}}{e^2}=0$$"
      ],
      "metadata": {
        "id": "YjF-nSYM99Pf"
      }
    },
    {
      "cell_type": "markdown",
      "source": [
        "2. $y=\\frac{\\sqrt{x}}{\\sqrt{x}+1}$, ${x_0}=9$."
      ],
      "metadata": {
        "id": "GxfHznTi9-F5"
      }
    },
    {
      "cell_type": "markdown",
      "source": [
        "$$y'(x_0)=(\\frac{\\sqrt{x_0}}{\\sqrt{x_0}+1})'=\\frac{\\sqrt{x_0}+1}{2⋅x_0^2+\\sqrt{x_0}⋅(6⋅x_0+2)+6⋅x_0}=\\frac{4}{2⋅81+3⋅(54+2)+54}=\\frac{1}{96}$$"
      ],
      "metadata": {
        "id": "XgNhB7B79-dW"
      }
    },
    {
      "cell_type": "markdown",
      "source": [
        "### Задание №3"
      ],
      "metadata": {
        "id": "T6uojzhX3-o6"
      }
    },
    {
      "cell_type": "markdown",
      "source": [
        "Используя логарифмическую производную, найти производные функций:"
      ],
      "metadata": {
        "id": "YKlv2XCd4AaS"
      }
    },
    {
      "cell_type": "markdown",
      "source": [
        "1. $y=x^{\\ln{x}}$;"
      ],
      "metadata": {
        "id": "pg-dKpjJ-aay"
      }
    },
    {
      "cell_type": "markdown",
      "source": [
        "$$y'=(x^{\\ln{x}})'=(e^{\\ln^2{x}})'=2⋅x^{\\ln{x}-1}⋅\\ln{x}$$"
      ],
      "metadata": {
        "id": "OxsqiYHR-ceM"
      }
    },
    {
      "cell_type": "markdown",
      "source": [
        "2. $y=\\frac{(x^3-2)⋅\\sqrt[3]{x-1}}{(x+5)^4}$;"
      ],
      "metadata": {
        "id": "4HbgcOtE-c9J"
      }
    },
    {
      "cell_type": "markdown",
      "source": [
        "$$y'=(\\frac{(x^3-2)⋅\\sqrt[3]{x-2}}{(x+5)^4})'=\\frac{-12⋅x^4+(x+5)⋅(10⋅x^3-9⋅x^2-2)+12⋅x^3+24⋅x-24}{3⋅\\sqrt[3]{(x-1)^2}⋅(x+5)^5}$$"
      ],
      "metadata": {
        "id": "gJkpqtmC-dUz"
      }
    },
    {
      "cell_type": "markdown",
      "source": [
        "3. $y=(\\tan{x})^{\\cos{x}}$."
      ],
      "metadata": {
        "id": "bsBa0qL0-dtX"
      }
    },
    {
      "cell_type": "markdown",
      "source": [
        "$$y'=(\\tan^{\\cos{x}}{x})'=(e^{\\cos{x}\\ln{\\tan{x}}})'=-\\frac{\\sin^2{x}⋅\\tan^{\\cos{x}}{x}⋅\\ln{\\tan{x}}-\\tan^{\\cos{x}}{x}}{\\sin{x}}$$"
      ],
      "metadata": {
        "id": "QdaE2nLg-eBy"
      }
    },
    {
      "cell_type": "markdown",
      "source": [
        "### Задание №4"
      ],
      "metadata": {
        "id": "9DagteTm4BJ6"
      }
    },
    {
      "cell_type": "markdown",
      "source": [
        "Найти производную неявно заданной функции:"
      ],
      "metadata": {
        "id": "tNjdrdPB4C89"
      }
    },
    {
      "cell_type": "markdown",
      "source": [
        "1. $e^{x⋅y}-\\cos{(x^2+y^2)=0}$;"
      ],
      "metadata": {
        "id": "60NtFcPz_CLI"
      }
    },
    {
      "cell_type": "markdown",
      "source": [
        "$$e^{x⋅y}-\\cos{x^2+y^2}=0$$\n",
        "$$y'(x)=\\frac{e^{x⋅y}⋅y-\\sin{(x^2+y^2)}⋅2⋅x}{e^{x⋅y}⋅x+\\sin{(x^2+y^2)}⋅2⋅y}$$"
      ],
      "metadata": {
        "id": "rlh-ZYXx_Ca7"
      }
    },
    {
      "cell_type": "markdown",
      "source": [
        "2. $x⋅\\sin{y}+y⋅\\sin{x}=0$."
      ],
      "metadata": {
        "id": "sK_cirJ7_Cxf"
      }
    },
    {
      "cell_type": "markdown",
      "source": [
        "$$x⋅\\sin{y}+y⋅\\sin{x}=0$$\n",
        "$$y'(x)=\\frac{-\\sin{y}-\\cos{x}⋅y}{x⋅\\cos{y}+\\sin{x}}$$"
      ],
      "metadata": {
        "id": "M6EvET8H_DEJ"
      }
    },
    {
      "cell_type": "markdown",
      "source": [
        "### Задание №5"
      ],
      "metadata": {
        "id": "Qt7nrtXk4DcZ"
      }
    },
    {
      "cell_type": "markdown",
      "source": [
        "Найти производную для заданных параметрических функций:"
      ],
      "metadata": {
        "id": "vq9KAdFS4F3I"
      }
    },
    {
      "cell_type": "markdown",
      "source": [
        "1. $x=t^3+t$, $y=t^2+t+1$;"
      ],
      "metadata": {
        "id": "EnN066FE_b32"
      }
    },
    {
      "cell_type": "markdown",
      "source": [
        "$$\\frac{(y(x))'}{(x)'}=\\frac{2⋅t+1}{3⋅t^2+1}$$"
      ],
      "metadata": {
        "id": "U27X9XKE_cNa"
      }
    },
    {
      "cell_type": "markdown",
      "source": [
        "2. $x=e^t⋅\\sin{t}$, $y=e^t⋅\\cos{t}$."
      ],
      "metadata": {
        "id": "98ifdq7E_ce9"
      }
    },
    {
      "cell_type": "markdown",
      "source": [
        "$$\\frac{(y(x))'}{x'}=\\frac{\\cos{t}-\\sin{t}}{\\cos{t}+\\sin{t}}$$"
      ],
      "metadata": {
        "id": "w2KrTQHK_c32"
      }
    },
    {
      "cell_type": "markdown",
      "source": [
        "### Задание №6"
      ],
      "metadata": {
        "id": "PRVlqlQj4GVZ"
      }
    },
    {
      "cell_type": "markdown",
      "source": [
        "Найти уравнение касательной и нормали к данной кривой в точке ${x_0}$:"
      ],
      "metadata": {
        "id": "1LpuljNf4JoA"
      }
    },
    {
      "cell_type": "markdown",
      "source": [
        "1. $y=e^x$, ${x_0=0}$."
      ],
      "metadata": {
        "id": "LZTF1DV6_5HZ"
      }
    },
    {
      "cell_type": "markdown",
      "source": [
        "Найдем $y(x_0)$:\n",
        "$$y(x_0)=e^{x_0}=e^0=1$$\n",
        "Найдем производную:\n",
        "$$y'=(e^x)'=e^x$$\n",
        "Найдем производную в точке $x_0$:\n",
        "$$y'(x_0)=e^{x_0}=1$$\n",
        "Найдем уравнение касательной:\n",
        "$$y-y(x_0)=y'(x_0)⋅(x-x_0)$$\n",
        "$$y=1+x$$\n",
        "Найдем уравнение нормали:\n",
        "$$y-y(x_0)=-\\frac{1}{y'(x_0)}⋅(x-x_0)$$\n",
        "$$y=1-x$$"
      ],
      "metadata": {
        "id": "6mvGFt1aUzs2"
      }
    },
    {
      "cell_type": "markdown",
      "source": [
        "### Задание №7"
      ],
      "metadata": {
        "id": "Xie-1Lu04J6P"
      }
    },
    {
      "cell_type": "markdown",
      "source": [
        "Найти производные указанных порядков для следующих функций:"
      ],
      "metadata": {
        "id": "pXTz65fdAAN-"
      }
    },
    {
      "cell_type": "markdown",
      "source": [
        "1. $y=-x⋅\\cos{x}$, $y''=?$;"
      ],
      "metadata": {
        "id": "lOwPa44dAHZ8"
      }
    },
    {
      "cell_type": "markdown",
      "source": [
        "$$y'=-\\cos{x}+x⋅\\sin{x}$$\n",
        "$$y''=2⋅\\sin{x}+x⋅\\cos{x}$$"
      ],
      "metadata": {
        "id": "fZp8alTJAHr0"
      }
    },
    {
      "cell_type": "markdown",
      "source": [
        "2. $y=e^{2⋅x}$, $y^{(V)}=?$"
      ],
      "metadata": {
        "id": "KzBDJQMKAIJR"
      }
    },
    {
      "cell_type": "markdown",
      "source": [
        "$$y'=2⋅e^{2⋅x}$$\n",
        "$$y^{(V)}=2^5⋅e^{2⋅x}$$"
      ],
      "metadata": {
        "id": "IYOgCotvAIdX"
      }
    },
    {
      "cell_type": "markdown",
      "source": [
        "3. $y=\\ln{(1+x)}$, $y^{(n)}=?$."
      ],
      "metadata": {
        "id": "wwxxizu2AqkT"
      }
    },
    {
      "cell_type": "markdown",
      "source": [
        "$$y'=\\frac{1}{x+1}$$\n",
        "$$y''=-\\frac{1}{(x+1)^2}$$\n",
        "$$y^{(n)}=(-1)^{n+1}⋅(x+1)^{-n}$$"
      ],
      "metadata": {
        "id": "4dKy8-9XUMse"
      }
    }
  ]
}