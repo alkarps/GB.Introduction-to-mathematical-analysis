{
  "nbformat": 4,
  "nbformat_minor": 0,
  "metadata": {
    "colab": {
      "provenance": [],
      "authorship_tag": "ABX9TyO+TCd2rqMrUsrb5voSgVbQ",
      "include_colab_link": true
    },
    "kernelspec": {
      "name": "python3",
      "display_name": "Python 3"
    },
    "language_info": {
      "name": "python"
    }
  },
  "cells": [
    {
      "cell_type": "markdown",
      "metadata": {
        "id": "view-in-github",
        "colab_type": "text"
      },
      "source": [
        "<a href=\"https://colab.research.google.com/github/alkarps/GB.Introduction-to-mathematical-analysis/blob/hw06/hw06.ipynb\" target=\"_parent\"><img src=\"https://colab.research.google.com/assets/colab-badge.svg\" alt=\"Open In Colab\"/></a>"
      ]
    },
    {
      "cell_type": "markdown",
      "source": [
        "##Практическое задание к лекции №6"
      ],
      "metadata": {
        "id": "JwUlgGKGz6Bb"
      }
    },
    {
      "cell_type": "markdown",
      "source": [
        "### Задание №1"
      ],
      "metadata": {
        "id": "yyjDSzyD0Dcw"
      }
    },
    {
      "cell_type": "markdown",
      "source": [
        "Найти производные указанных функций:"
      ],
      "metadata": {
        "id": "JGorxrAf35D9"
      }
    },
    {
      "cell_type": "markdown",
      "source": [
        "1. $y=x^3⋅\\log_2{x}$;"
      ],
      "metadata": {
        "id": "tRWydKwI5WNq"
      }
    },
    {
      "cell_type": "markdown",
      "source": [],
      "metadata": {
        "id": "9vTgyEAT5lg_"
      }
    },
    {
      "cell_type": "markdown",
      "source": [
        "2. $y=-10⋅\\arctan{x}+7⋅e^x$;"
      ],
      "metadata": {
        "id": "88GLzvzf5ngE"
      }
    },
    {
      "cell_type": "markdown",
      "source": [],
      "metadata": {
        "id": "x6Q6IOPc51B8"
      }
    },
    {
      "cell_type": "markdown",
      "source": [
        "3. $y=\\frac{1}{\\sqrt[3]{x^2}}-\\frac{2}{x^3}+\\sqrt{7}⋅x$;"
      ],
      "metadata": {
        "id": "N6KB6n__51aB"
      }
    },
    {
      "cell_type": "markdown",
      "source": [],
      "metadata": {
        "id": "rWJaQaDX6J-P"
      }
    },
    {
      "cell_type": "markdown",
      "source": [
        "4. $y=\\cos{\\frac{1-\\sqrt{x}}{1+\\sqrt{x}}}$;"
      ],
      "metadata": {
        "id": "0_pFQrM26KT6"
      }
    },
    {
      "cell_type": "markdown",
      "source": [],
      "metadata": {
        "id": "_abyfy4f6ZwX"
      }
    },
    {
      "cell_type": "markdown",
      "source": [
        "5. $y=e^{\\sinh^2{5⋅x}}$;"
      ],
      "metadata": {
        "id": "AlY4C_vy6aKu"
      }
    },
    {
      "cell_type": "markdown",
      "source": [],
      "metadata": {
        "id": "ZwqhIfGz9Vg6"
      }
    },
    {
      "cell_type": "markdown",
      "source": [
        "6. $y=\\ln{\\frac{(x+1)⋅(x+3)^3}{(x+2)^3⋅(x+4)}}$;"
      ],
      "metadata": {
        "id": "JvPxy1Tc9V9O"
      }
    },
    {
      "cell_type": "markdown",
      "source": [],
      "metadata": {
        "id": "9fWEK6hy9o0a"
      }
    },
    {
      "cell_type": "markdown",
      "source": [
        "7. $y=\\frac{\\sin^2{x}}{\\cot{x}+1}+\\frac{\\cos^2{x}}{\\tan{x}+1}$."
      ],
      "metadata": {
        "id": "zV6RlyFS9pMf"
      }
    },
    {
      "cell_type": "markdown",
      "source": [
        "### Задание №2"
      ],
      "metadata": {
        "id": "RtfOa-eH35X3"
      }
    },
    {
      "cell_type": "markdown",
      "source": [
        "Найти производную данной функции в точке:"
      ],
      "metadata": {
        "id": "sClwtiBq3-TP"
      }
    },
    {
      "cell_type": "markdown",
      "source": [
        "1. $y=\\frac{\\ln{x}}{x}$, ${x_0=e}$;"
      ],
      "metadata": {
        "id": "ZlPoDEfq986q"
      }
    },
    {
      "cell_type": "markdown",
      "source": [],
      "metadata": {
        "id": "YjF-nSYM99Pf"
      }
    },
    {
      "cell_type": "markdown",
      "source": [
        "2. $y=\\frac{\\sqrt{x}}{\\sqrt{x}+1}$, ${x_0}=9$."
      ],
      "metadata": {
        "id": "GxfHznTi9-F5"
      }
    },
    {
      "cell_type": "markdown",
      "source": [],
      "metadata": {
        "id": "XgNhB7B79-dW"
      }
    },
    {
      "cell_type": "markdown",
      "source": [
        "### Задание №3"
      ],
      "metadata": {
        "id": "T6uojzhX3-o6"
      }
    },
    {
      "cell_type": "markdown",
      "source": [
        "Используя логарифмическую производную, найти производные функций:"
      ],
      "metadata": {
        "id": "YKlv2XCd4AaS"
      }
    },
    {
      "cell_type": "markdown",
      "source": [
        "1. $y=x^{\\ln{x}}$;"
      ],
      "metadata": {
        "id": "pg-dKpjJ-aay"
      }
    },
    {
      "cell_type": "markdown",
      "source": [],
      "metadata": {
        "id": "OxsqiYHR-ceM"
      }
    },
    {
      "cell_type": "markdown",
      "source": [
        "2. $y=\\frac{(x^3-2)⋅\\sqrt[3]{x-1}}{(x+5)^4}$;"
      ],
      "metadata": {
        "id": "4HbgcOtE-c9J"
      }
    },
    {
      "cell_type": "markdown",
      "source": [],
      "metadata": {
        "id": "gJkpqtmC-dUz"
      }
    },
    {
      "cell_type": "markdown",
      "source": [
        "3. $y=(\\tan{x})^{\\cos{x}}$."
      ],
      "metadata": {
        "id": "bsBa0qL0-dtX"
      }
    },
    {
      "cell_type": "markdown",
      "source": [],
      "metadata": {
        "id": "QdaE2nLg-eBy"
      }
    },
    {
      "cell_type": "markdown",
      "source": [
        "### Задание №4"
      ],
      "metadata": {
        "id": "9DagteTm4BJ6"
      }
    },
    {
      "cell_type": "markdown",
      "source": [
        "Найти производную неявно заданной функции:"
      ],
      "metadata": {
        "id": "tNjdrdPB4C89"
      }
    },
    {
      "cell_type": "markdown",
      "source": [
        "1. $e^{x⋅y}-\\cos{(x^2+y^2)=0}$;"
      ],
      "metadata": {
        "id": "60NtFcPz_CLI"
      }
    },
    {
      "cell_type": "markdown",
      "source": [],
      "metadata": {
        "id": "rlh-ZYXx_Ca7"
      }
    },
    {
      "cell_type": "markdown",
      "source": [
        "2. $x⋅\\sin{y}+y⋅\\sin{x}=0$."
      ],
      "metadata": {
        "id": "sK_cirJ7_Cxf"
      }
    },
    {
      "cell_type": "markdown",
      "source": [],
      "metadata": {
        "id": "M6EvET8H_DEJ"
      }
    },
    {
      "cell_type": "markdown",
      "source": [
        "### Задание №5"
      ],
      "metadata": {
        "id": "Qt7nrtXk4DcZ"
      }
    },
    {
      "cell_type": "markdown",
      "source": [
        "Найти производную для заданных параметрических функций:"
      ],
      "metadata": {
        "id": "vq9KAdFS4F3I"
      }
    },
    {
      "cell_type": "markdown",
      "source": [
        "1. $x=t^3+t$, $y=t^2+t+1$;"
      ],
      "metadata": {
        "id": "EnN066FE_b32"
      }
    },
    {
      "cell_type": "markdown",
      "source": [],
      "metadata": {
        "id": "U27X9XKE_cNa"
      }
    },
    {
      "cell_type": "markdown",
      "source": [
        "2. $x=e^t⋅\\sin{t}$, $y=e^t⋅\\cos{t}$."
      ],
      "metadata": {
        "id": "98ifdq7E_ce9"
      }
    },
    {
      "cell_type": "markdown",
      "source": [],
      "metadata": {
        "id": "w2KrTQHK_c32"
      }
    },
    {
      "cell_type": "markdown",
      "source": [
        "### Задание №6"
      ],
      "metadata": {
        "id": "PRVlqlQj4GVZ"
      }
    },
    {
      "cell_type": "markdown",
      "source": [
        "Найти уравнение касательной и нормали к данной кривой в точке ${x_0}$:"
      ],
      "metadata": {
        "id": "1LpuljNf4JoA"
      }
    },
    {
      "cell_type": "markdown",
      "source": [
        "1. $y=e^x$, ${x_0=0}$."
      ],
      "metadata": {
        "id": "LZTF1DV6_5HZ"
      }
    },
    {
      "cell_type": "markdown",
      "source": [
        "### Задание №7"
      ],
      "metadata": {
        "id": "Xie-1Lu04J6P"
      }
    },
    {
      "cell_type": "markdown",
      "source": [
        "Найти производные указанных порядков для следующих функций:"
      ],
      "metadata": {
        "id": "pXTz65fdAAN-"
      }
    },
    {
      "cell_type": "markdown",
      "source": [
        "1. $y=-x⋅\\cos{x}$, $y''=?$;"
      ],
      "metadata": {
        "id": "lOwPa44dAHZ8"
      }
    },
    {
      "cell_type": "markdown",
      "source": [],
      "metadata": {
        "id": "fZp8alTJAHr0"
      }
    },
    {
      "cell_type": "markdown",
      "source": [
        "2. $y=e^{2⋅x}$, $y^{(V)}=?$"
      ],
      "metadata": {
        "id": "KzBDJQMKAIJR"
      }
    },
    {
      "cell_type": "markdown",
      "source": [],
      "metadata": {
        "id": "IYOgCotvAIdX"
      }
    },
    {
      "cell_type": "markdown",
      "source": [
        "3. $y=\\ln{(1+x)}$, $y^{(n)}=?$."
      ],
      "metadata": {
        "id": "wwxxizu2AqkT"
      }
    }
  ]
}