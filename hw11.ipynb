{
  "nbformat": 4,
  "nbformat_minor": 0,
  "metadata": {
    "colab": {
      "provenance": [],
      "authorship_tag": "ABX9TyN0hTNtc4FEvhign7lkk9bx",
      "include_colab_link": true
    },
    "kernelspec": {
      "name": "python3",
      "display_name": "Python 3"
    },
    "language_info": {
      "name": "python"
    }
  },
  "cells": [
    {
      "cell_type": "markdown",
      "metadata": {
        "id": "view-in-github",
        "colab_type": "text"
      },
      "source": [
        "<a href=\"https://colab.research.google.com/github/alkarps/GB.Introduction-to-mathematical-analysis/blob/hw11/hw11.ipynb\" target=\"_parent\"><img src=\"https://colab.research.google.com/assets/colab-badge.svg\" alt=\"Open In Colab\"/></a>"
      ]
    },
    {
      "cell_type": "markdown",
      "source": [
        "##Домашняя работа к лекции №11"
      ],
      "metadata": {
        "id": "VHAl8NfArRKq"
      }
    },
    {
      "cell_type": "markdown",
      "source": [
        "###Задание №1"
      ],
      "metadata": {
        "id": "5cpk-3PFrVgZ"
      }
    },
    {
      "cell_type": "markdown",
      "source": [
        "Решить уравнения:"
      ],
      "metadata": {
        "id": "hDF1_lEtrYEl"
      }
    },
    {
      "cell_type": "markdown",
      "source": [
        "1. $y'-y=2⋅x-3$;"
      ],
      "metadata": {
        "id": "K0E4QPYsreoY"
      }
    },
    {
      "cell_type": "markdown",
      "source": [
        "$$y'=y+2⋅x-3$$\n",
        "$$z=y+2⋅x-3$$\n",
        "$$y=z-2⋅x+3$$\n",
        "$$y'=z'$$\n",
        "$$z'=z$$\n",
        "$$\\frac{dz}{z}=dx$$\n",
        "$$\\ln{|z|}=x+C$$\n",
        "$$\\ln{(y+2⋅x-3)}-x=C$$"
      ],
      "metadata": {
        "id": "WJMctdljrnaS"
      }
    },
    {
      "cell_type": "markdown",
      "source": [
        "2.$x^2⋅y'+x⋅y+1=0$."
      ],
      "metadata": {
        "id": "XfyGsKGXrnyz"
      }
    },
    {
      "cell_type": "markdown",
      "source": [
        "$$y'=-\\frac{x⋅y+1}{x^2}$$\n",
        "$$\\ln{|\\frac{x⋅y+1}{x^2}|}-x=C$$"
      ],
      "metadata": {
        "id": "dhUpSBWMrvHU"
      }
    },
    {
      "cell_type": "markdown",
      "source": [
        "###Задание №2"
      ],
      "metadata": {
        "id": "pj3-SpjbrYZE"
      }
    },
    {
      "cell_type": "markdown",
      "source": [
        "Исследовать ряд на сходимость:"
      ],
      "metadata": {
        "id": "sHP8pOhHrvlb"
      }
    },
    {
      "cell_type": "markdown",
      "source": [
        "1. $\\sum_{n=1}^{∞}{\\frac{n+2}{n^2+n+1}}$;"
      ],
      "metadata": {
        "id": "CU0QSLJgrxQb"
      }
    },
    {
      "cell_type": "markdown",
      "source": [
        "$$\\lim_{n \\to ∞}{\\frac{n+2}{n^2+n+1}}≥\\lim_{n \\to ∞}{\\frac{n}{n^2}}=\\lim_{n \\to ∞}{\\frac{1}{n}}$$\n",
        "Следовательно ряд расходится"
      ],
      "metadata": {
        "id": "G6NnSYDhsLtP"
      }
    },
    {
      "cell_type": "markdown",
      "source": [
        "2. $\\sum_{n=1}^{∞}{\\frac{n^n}{n!}}$;"
      ],
      "metadata": {
        "id": "b1PDWQbqsL40"
      }
    },
    {
      "cell_type": "markdown",
      "source": [
        "$$\\lim_{n \\to ∞}{\\frac{n^n}{n!}}=∞$$\n",
        "Следовательно ряд расходится"
      ],
      "metadata": {
        "id": "sB3dp0R2sURO"
      }
    },
    {
      "cell_type": "markdown",
      "source": [
        "3. $\\sum_{n=1}^{∞}{n⋅(1-\\frac{1}{n})^{n^2}}$;"
      ],
      "metadata": {
        "id": "Zw60R6o2sUc6"
      }
    },
    {
      "cell_type": "markdown",
      "source": [
        "$$\\lim_{n \\to ∞}{n⋅(1-\\frac{1}{n})^{n^2}}=∞$$\n",
        "Следовательно ряд расходится"
      ],
      "metadata": {
        "id": "T-RIu54tsVHq"
      }
    },
    {
      "cell_type": "markdown",
      "source": [
        "4. $\\sum_{n=1}^{∞}{\\frac{(-1)^{n+1}}{2⋅n-\\ln{n}}}$;"
      ],
      "metadata": {
        "id": "Pl2Srm6GsVRx"
      }
    },
    {
      "cell_type": "markdown",
      "source": [
        "Ряд сходится, тк:\n",
        "$$a_1=\\frac{1}{2}$$\n",
        "$$a_2=-\\frac{1}{4-\\ln{2}}$$\n",
        "$$a_3=\\frac{1}{6-\\ln{3}}$$\n",
        "$$|a_1|>|a_2|>|a_3|$$\n",
        "$$\\lim_{n \\to ∞}{\\frac{1}{2⋅n-\\ln{n}}}=0$$"
      ],
      "metadata": {
        "id": "bHZy9YqrsWNf"
      }
    },
    {
      "cell_type": "markdown",
      "source": [
        "5. $\\sum_{n=1}^{∞}{\\frac{(x-2)^{n+1}}{3^n⋅(n+2)}}$."
      ],
      "metadata": {
        "id": "3NxCrwxHsWeF"
      }
    },
    {
      "cell_type": "markdown",
      "source": [
        "$$\\lim_{n \\to ∞}{\\frac{(n-2)^{n+1}}{3^n⋅(n+2)}}=∞$$\n",
        "Следовательно расходится"
      ],
      "metadata": {
        "id": "tD7-Zc9K1aiJ"
      }
    }
  ]
}