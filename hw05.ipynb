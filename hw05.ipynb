{
  "nbformat": 4,
  "nbformat_minor": 0,
  "metadata": {
    "colab": {
      "provenance": [],
      "authorship_tag": "ABX9TyMeVAN3rPYb3tC02Y73r3xk",
      "include_colab_link": true
    },
    "kernelspec": {
      "name": "python3",
      "display_name": "Python 3"
    },
    "language_info": {
      "name": "python"
    }
  },
  "cells": [
    {
      "cell_type": "markdown",
      "metadata": {
        "id": "view-in-github",
        "colab_type": "text"
      },
      "source": [
        "<a href=\"https://colab.research.google.com/github/alkarps/GB.Introduction-to-mathematical-analysis/blob/hw05/hw05.ipynb\" target=\"_parent\"><img src=\"https://colab.research.google.com/assets/colab-badge.svg\" alt=\"Open In Colab\"/></a>"
      ]
    },
    {
      "cell_type": "markdown",
      "source": [
        "## Практическое задание к лекции №5"
      ],
      "metadata": {
        "id": "hRremt4BC-xI"
      }
    },
    {
      "cell_type": "markdown",
      "source": [
        "### Задание №1"
      ],
      "metadata": {
        "id": "792hqwBoDD8_"
      }
    },
    {
      "cell_type": "markdown",
      "source": [
        "Найти пределы"
      ],
      "metadata": {
        "id": "cxmcS_PpkVjP"
      }
    },
    {
      "cell_type": "markdown",
      "source": [
        "1. $\\lim_{x \\to ∞}[\\ln{(x+3)}-\\ln{x}]$;"
      ],
      "metadata": {
        "id": "GcVKpbqwHMEh"
      }
    },
    {
      "cell_type": "markdown",
      "source": [
        "2. $\\lim_{x \\to 0}{\\frac{\\ln{(1+2⋅x)}}{\\arcsin{(3⋅x)}}}$;"
      ],
      "metadata": {
        "id": "aDe3hlHYHj7U"
      }
    },
    {
      "cell_type": "markdown",
      "source": [
        "3. $\\lim_{x \\to 0}{\\frac{7^x-1}{3^x-1}}$;"
      ],
      "metadata": {
        "id": "lf9oKRGGHoUA"
      }
    },
    {
      "cell_type": "markdown",
      "source": [
        "4. $\\lim_{a \\to 0}{\\frac{(x+a)^3-x^3}{a}}$;"
      ],
      "metadata": {
        "id": "Ui8zEmAUHqAZ"
      }
    },
    {
      "cell_type": "markdown",
      "source": [
        "5. $\\lim_{x \\to ∞}{(\\frac{x^3}{5⋅x^2+1}-\\frac{x^2}{5⋅x-3})}$;"
      ],
      "metadata": {
        "id": "eQgYdVg3Hqy4"
      }
    },
    {
      "cell_type": "markdown",
      "source": [
        "6. $\\lim_{x \\to 0}{\\frac{1-\\cos{(4⋅x)}}{2⋅x⋅\\tan{(2⋅x)}}}$;"
      ],
      "metadata": {
        "id": "VeZbDxksHr6f"
      }
    },
    {
      "cell_type": "markdown",
      "source": [
        "7. $\\lim_{x \\to ∞}{x⋅\\sin{(\\frac{2}{x})}}$;"
      ],
      "metadata": {
        "id": "kQ5rVIwrHtTO"
      }
    },
    {
      "cell_type": "markdown",
      "source": [
        "8. $lim_{x \\to 0}{(1+\\tan{x})^{\\cot{x}}}$;"
      ],
      "metadata": {
        "id": "Z_MjLH2OHuff"
      }
    },
    {
      "cell_type": "markdown",
      "source": [
        "9. $\\lim_{x \\to 0}{(\\cos{(2⋅x)})^{\\frac{1}{(\\sin{x})^2}}}$;"
      ],
      "metadata": {
        "id": "K346hKqFHvUd"
      }
    },
    {
      "cell_type": "markdown",
      "source": [
        "10. $\\lim_{x \\to 0}{\\frac{\\sqrt{1+x⋅\\sin{x}}-1}{x^2}}$."
      ],
      "metadata": {
        "id": "b0t_48lSHwh7"
      }
    },
    {
      "cell_type": "markdown",
      "source": [
        "### Задание №2"
      ],
      "metadata": {
        "id": "k76dBgi0HMYC"
      }
    },
    {
      "cell_type": "markdown",
      "source": [
        "Установите характер разрыва функции в точке ${x_0}$:"
      ],
      "metadata": {
        "id": "En9B1zAKnTYM"
      }
    },
    {
      "cell_type": "markdown",
      "source": [
        "1. $f(x)=\\frac{x^2-16}{x+4}$, $x_0=-4$;"
      ],
      "metadata": {
        "id": "ARpjkLTHHPFw"
      }
    },
    {
      "cell_type": "markdown",
      "source": [
        "2. $f(x)=\\frac{\\sin{x}}{x}$, $x_0=0$."
      ],
      "metadata": {
        "id": "zpg2QJFRLgaS"
      }
    },
    {
      "cell_type": "markdown",
      "source": [
        "### Задание №3"
      ],
      "metadata": {
        "id": "0RllsWKtHPP8"
      }
    },
    {
      "cell_type": "markdown",
      "source": [
        "Исследовать на непрерывность функцию $f(x)$ в точке $x_0$:"
      ],
      "metadata": {
        "id": "IbPNUmPan80v"
      }
    },
    {
      "cell_type": "markdown",
      "source": [
        "1. $f(x)=\\arctan{\\frac{2}{x-1}}$, $x_0=1$;"
      ],
      "metadata": {
        "id": "4vXEpN0OHRuQ"
      }
    },
    {
      "cell_type": "markdown",
      "source": [
        "2. $f(x)=\\frac{1}{2^{x-3}-1}$, $x_0=3$."
      ],
      "metadata": {
        "id": "E5yTXDTbLkJV"
      }
    }
  ]
}