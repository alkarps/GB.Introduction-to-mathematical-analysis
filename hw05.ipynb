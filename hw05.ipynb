{
  "nbformat": 4,
  "nbformat_minor": 0,
  "metadata": {
    "colab": {
      "provenance": [],
      "authorship_tag": "ABX9TyNSmM1zS4qdrh/6bFEj5yi6",
      "include_colab_link": true
    },
    "kernelspec": {
      "name": "python3",
      "display_name": "Python 3"
    },
    "language_info": {
      "name": "python"
    }
  },
  "cells": [
    {
      "cell_type": "markdown",
      "metadata": {
        "id": "view-in-github",
        "colab_type": "text"
      },
      "source": [
        "<a href=\"https://colab.research.google.com/github/alkarps/GB.Introduction-to-mathematical-analysis/blob/hw05/hw05.ipynb\" target=\"_parent\"><img src=\"https://colab.research.google.com/assets/colab-badge.svg\" alt=\"Open In Colab\"/></a>"
      ]
    },
    {
      "cell_type": "markdown",
      "source": [
        "## Практическое задание к лекции №5"
      ],
      "metadata": {
        "id": "hRremt4BC-xI"
      }
    },
    {
      "cell_type": "markdown",
      "source": [
        "### Задание №1"
      ],
      "metadata": {
        "id": "792hqwBoDD8_"
      }
    },
    {
      "cell_type": "markdown",
      "source": [
        "Найти пределы"
      ],
      "metadata": {
        "id": "cxmcS_PpkVjP"
      }
    },
    {
      "cell_type": "markdown",
      "source": [
        "1. $\\lim_{x \\to ∞}[\\ln{(x+3)}-\\ln{x}]$;"
      ],
      "metadata": {
        "id": "GcVKpbqwHMEh"
      }
    },
    {
      "cell_type": "markdown",
      "source": [
        "$$\\lim_{x \\to ∞}{[\\ln{(x+3)-\\ln{x}]}}=\\lim_{x \\to ∞}{[\\ln{\\frac{x+3}{x}}]}=\\ln(1+0)=0$$"
      ],
      "metadata": {
        "id": "Xne1wV0L1Y-c"
      }
    },
    {
      "cell_type": "markdown",
      "source": [
        "2. $\\lim_{x \\to 0}{\\frac{\\ln{(1+2⋅x)}}{\\arcsin{(3⋅x)}}}$;"
      ],
      "metadata": {
        "id": "aDe3hlHYHj7U"
      }
    },
    {
      "cell_type": "markdown",
      "source": [
        "$$\\lim_{x \\to 0}{\\frac{\\ln{(1+2⋅x)}}{\\arcsin{(3⋅x)}}}=\\lim_{x \\to 0}{\\frac{2⋅x⋅\\ln{((2⋅x+1)^{\\frac{1}{2⋅x}})}}{\\arcsin{(3⋅x)}}}=\\lim_{x \\to 0}{\\frac{2⋅x⋅\\ln{e}}{\\arcsin{(3⋅x)}}}=\\lim_{x \\to 0}{\\frac{2⋅3⋅x}{3⋅\\arcsin{(3⋅x)}}}=\\frac{2}{3}$$"
      ],
      "metadata": {
        "id": "BrTq1le111MQ"
      }
    },
    {
      "cell_type": "markdown",
      "source": [
        "3. $\\lim_{x \\to 0}{\\frac{7^x-1}{3^x-1}}$;"
      ],
      "metadata": {
        "id": "lf9oKRGGHoUA"
      }
    },
    {
      "cell_type": "markdown",
      "source": [
        "$$\\lim_{x \\to 0}{\\frac{7^x-1}{3^x-1}}=\\lim_{x \\to 0}{\\frac{\\frac{7^x-1}{x}}{\\frac{3^x-1}{x}}}=\\frac{\\ln{7}}{\\ln{3}}$$"
      ],
      "metadata": {
        "id": "YWOMsMGS53xR"
      }
    },
    {
      "cell_type": "markdown",
      "source": [
        "4. $\\lim_{a \\to 0}{\\frac{(x+a)^3-x^3}{a}}$;"
      ],
      "metadata": {
        "id": "Ui8zEmAUHqAZ"
      }
    },
    {
      "cell_type": "markdown",
      "source": [
        "$$\\lim_{a \\to 0}{\\frac{(x+a)^3-x^3}{a}}=\\lim_{a \\to 0}{\\frac{(a^2+3⋅x⋅a+3⋅x^2)⋅a}{a}}=\\lim_{a \\to 0}{(a^2+3⋅x⋅a+3⋅x^2)}=3⋅x^2$$"
      ],
      "metadata": {
        "id": "kKi_OlDaAnzr"
      }
    },
    {
      "cell_type": "markdown",
      "source": [
        "5. $\\lim_{x \\to ∞}{(\\frac{x^3}{5⋅x^2+1}-\\frac{x^2}{5⋅x-3})}$;"
      ],
      "metadata": {
        "id": "eQgYdVg3Hqy4"
      }
    },
    {
      "cell_type": "markdown",
      "source": [
        "$$\\lim_{x \\to ∞}{(\\frac{x^3}{5⋅x^2+1}-{\\frac{x^2}{5⋅x-3}})}=\\lim_{x \\to ∞}{(\\frac{x}{5+\\frac{1}{x^2}} - \\frac{x}{5-\\frac{3}{x}})}=∞$$"
      ],
      "metadata": {
        "id": "J-fx-FTkEm9_"
      }
    },
    {
      "cell_type": "markdown",
      "source": [
        "6. $\\lim_{x \\to 0}{\\frac{1-\\cos{(4⋅x)}}{2⋅x⋅\\tan{(2⋅x)}}}$;"
      ],
      "metadata": {
        "id": "VeZbDxksHr6f"
      }
    },
    {
      "cell_type": "markdown",
      "source": [
        "$$\\lim_{x \\to 0}{\\frac{1-\\cos{(4⋅x)}}{2⋅x⋅\\tan{(2⋅x)}}}=\\frac{1}{2}⋅\\lim_{x \\to 0}{-\\frac{\\cos{(2x)}⋅(\\cos{(4⋅x)}-1)}{x⋅\\sin{(2⋅x)}}}=\\frac{1}{2}⋅\\lim_{x \\to 0}{(-\\cos{(2x)})}⋅\\lim_{x \\to 0}{\\frac{\\cos{(4⋅x)}-1}{x⋅\\sin{(4⋅x)}}}=-\\frac{1}{2}⋅\\lim_{x \\to 0}{\\frac{\\cos{(4⋅x)}-1}{2⋅x^2⋅\\frac{\\sin{(2⋅x)}}{2⋅x}}}=1\\frac{1}{2}⋅\\lim_{x \\to 0}{\\frac{\\cos{(4⋅x)}-1}{2⋅x^2}}=-\\frac{1}{4}⋅\\lim_{x \\to 0}{-\\frac{2⋅(\\sin{(2⋅x)})^2}{x^2}}=\\frac{4}{2}=2$$"
      ],
      "metadata": {
        "id": "f_omowwbFNpL"
      }
    },
    {
      "cell_type": "markdown",
      "source": [
        "7. $\\lim_{x \\to ∞}{x⋅\\sin{(\\frac{2}{x})}}$;"
      ],
      "metadata": {
        "id": "kQ5rVIwrHtTO"
      }
    },
    {
      "cell_type": "markdown",
      "source": [
        "$$\\lim_{x \\to ∞}{x⋅\\sin{(\\frac{2}{x})}}=2$$"
      ],
      "metadata": {
        "id": "i8DGVYhleJyT"
      }
    },
    {
      "cell_type": "markdown",
      "source": [
        "8. $lim_{x \\to 0}{(1+\\tan{x})^{\\cot{x}}}$;"
      ],
      "metadata": {
        "id": "Z_MjLH2OHuff"
      }
    },
    {
      "cell_type": "markdown",
      "source": [
        "$$\\lim_{x \\to 0}{(1+\\tan{x})^{\\cot{x}}}=e$$"
      ],
      "metadata": {
        "id": "SpOCuag7eWC2"
      }
    },
    {
      "cell_type": "markdown",
      "source": [
        "9. $\\lim_{x \\to 0}{(\\cos{(2⋅x)})^{\\frac{1}{(\\sin{x})^2}}}$;"
      ],
      "metadata": {
        "id": "K346hKqFHvUd"
      }
    },
    {
      "cell_type": "markdown",
      "source": [
        "  $$\\lim_{x \\to 0}{(\\cos{(2⋅x)})^{\\frac{1}{(\\sin{X})^2}}}=\\lim_{x \\to 0}{(1+\\cos{(2⋅x)}-1)^{\\frac{1}{\\cos{(2⋅x)}-1}⋅\\frac{\\cos{(2⋅x)}-1}{x^2⋅(\\frac{\\sin{x}}{x})^2}}}=\\lim_{x \\to 0}{e^{\\frac{\\cos{(2⋅x)}-1}{x^2}}}=\\lim_{x \\to 0}{\\frac{1}{e^{\\frac{2⋅sin^2{x}}{x^2}}}}=\\frac{1}{e^2}$$"
      ],
      "metadata": {
        "id": "yYxH8hbtkz58"
      }
    },
    {
      "cell_type": "markdown",
      "source": [
        "10. $\\lim_{x \\to 0}{\\frac{\\sqrt{1+x⋅\\sin{x}}-1}{x^2}}$."
      ],
      "metadata": {
        "id": "b0t_48lSHwh7"
      }
    },
    {
      "cell_type": "markdown",
      "source": [
        "$$\\lim_{x \\to 0}{\\frac{\\sqrt{1+x⋅\\sin{x}}-1}{x^2}}=\\lim_{x \\to 0}{\\frac{(\\sqrt{x⋅\\sin{x}+1}-1)⋅(\\sqrt{x⋅\\sin{x}+1}+1)}{x^2⋅(\\sqrt{x⋅sin{x}+1}+1)}}=\\lim_{x \\to 0}{\\frac{\\sin{x}}{x⋅(\\sqrt{x⋅\\sin{x}+1}+1)}}=\\lim_{x \\to 0}{\\frac{1}{\\sqrt{x^2+1}+1}}=\\frac{1}{2}$$"
      ],
      "metadata": {
        "id": "jcI35d4dmEUU"
      }
    },
    {
      "cell_type": "markdown",
      "source": [
        "### Задание №2"
      ],
      "metadata": {
        "id": "k76dBgi0HMYC"
      }
    },
    {
      "cell_type": "markdown",
      "source": [
        "Установите характер разрыва функции в точке ${x_0}$:"
      ],
      "metadata": {
        "id": "En9B1zAKnTYM"
      }
    },
    {
      "cell_type": "markdown",
      "source": [
        "1. $f(x)=\\frac{x^2-16}{x+4}$, $x_0=-4$;"
      ],
      "metadata": {
        "id": "ARpjkLTHHPFw"
      }
    },
    {
      "cell_type": "markdown",
      "source": [
        "$$\\lim_{x \\to -4-0}{\\frac{x^2-16}{x+4}}=\\lim_{x \\to -4-0}{(x-4)}=-8$$"
      ],
      "metadata": {
        "id": "jSxTc7kknzhc"
      }
    },
    {
      "cell_type": "markdown",
      "source": [
        "$$\\lim_{x \\to -4+0}{\\frac{x^2-16}{x+4}}=\\lim_{x \\to -4+0}{(x-4)}=-8$$"
      ],
      "metadata": {
        "id": "3p4Ap0xFoDtT"
      }
    },
    {
      "cell_type": "markdown",
      "source": [
        "Односторонние пределы для функции $f(x)=\\frac{x^2-16}{x+4}$ в точке ${x_0=-4}$ равны $⇒$ разрыва нет."
      ],
      "metadata": {
        "id": "Ez5ymJ09oOcF"
      }
    },
    {
      "cell_type": "markdown",
      "source": [
        "2. $f(x)=\\frac{\\sin{x}}{x}$, $x_0=0$."
      ],
      "metadata": {
        "id": "zpg2QJFRLgaS"
      }
    },
    {
      "cell_type": "markdown",
      "source": [
        "$$\\lim_{x \\to 0-0}{\\frac{\\sin{x}}{x}}=1$$"
      ],
      "metadata": {
        "id": "WoWv36maouWX"
      }
    },
    {
      "cell_type": "markdown",
      "source": [
        "$$\\lim_{x \\to 0+0}{\\frac{\\sin{x}}{x}}=1$$"
      ],
      "metadata": {
        "id": "6OclPazco6mu"
      }
    },
    {
      "cell_type": "markdown",
      "source": [
        "Односторонние пределы для функции $f(x)=\\frac{\\sin{x}}{x}$ в точке ${x_0=0}$ равны $⇒$ разрыва нет."
      ],
      "metadata": {
        "id": "tfSbkTiapAoy"
      }
    },
    {
      "cell_type": "markdown",
      "source": [
        "### Задание №3"
      ],
      "metadata": {
        "id": "0RllsWKtHPP8"
      }
    },
    {
      "cell_type": "markdown",
      "source": [
        "Исследовать на непрерывность функцию $f(x)$ в точке $x_0$:"
      ],
      "metadata": {
        "id": "IbPNUmPan80v"
      }
    },
    {
      "cell_type": "markdown",
      "source": [
        "1. $f(x)=\\arctan{\\frac{2}{x-1}}$, $x_0=1$;"
      ],
      "metadata": {
        "id": "4vXEpN0OHRuQ"
      }
    },
    {
      "cell_type": "markdown",
      "source": [
        "$$\\lim_{x \\to 1-0}{\\arctan{\\frac{2}{x-1}}}=\\arctan{\\frac{2}{1-0-1}}=-\\frac{π}{2}$$"
      ],
      "metadata": {
        "id": "X1HfmIPbpwt0"
      }
    },
    {
      "cell_type": "markdown",
      "source": [
        "$$\\lim_{x \\to 1+0}{\\arctan{\\frac{2}{x-1}}}=\\arctan{\\frac{2}{1+0-1}}=\\frac{π}{2}$$"
      ],
      "metadata": {
        "id": "vlCTzTTcqWkq"
      }
    },
    {
      "cell_type": "markdown",
      "source": [
        "Односторонние пределы для $f(x)=\\arctan{\\frac{2}{x-1}}$ не равны в точке ${x_0=1}$ $⇒$ в данной точке разрыв."
      ],
      "metadata": {
        "id": "7pC6kXxcqlv_"
      }
    },
    {
      "cell_type": "markdown",
      "source": [
        "2. $f(x)=\\frac{1}{2^{x-3}-1}$, $x_0=3$."
      ],
      "metadata": {
        "id": "E5yTXDTbLkJV"
      }
    },
    {
      "cell_type": "markdown",
      "source": [
        "$$\\lim_{x \\to 3-0}{\\frac{1}{2^{x-3}-1}}=\\frac{1}{2^{3-0-3}-1}=-∞$$"
      ],
      "metadata": {
        "id": "GPVLdVfOq1-B"
      }
    },
    {
      "cell_type": "markdown",
      "source": [
        "$$\\lim_{x \\to 3+0}{\\frac{1}{2^{x-3}-1}}=\\frac{1}{2^{3+0-3}-1}=∞$$"
      ],
      "metadata": {
        "id": "o6f2bEijywuu"
      }
    },
    {
      "cell_type": "markdown",
      "source": [
        "Односторонние пределы для $f(x)=\\arctan{\\frac{2}{x-1}}$ не равны в точке ${x_0=3}$ $⇒$ в данной точке разрыв."
      ],
      "metadata": {
        "id": "bKP6WY-azBSD"
      }
    }
  ]
}