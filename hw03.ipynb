{
  "nbformat": 4,
  "nbformat_minor": 0,
  "metadata": {
    "colab": {
      "provenance": [],
      "authorship_tag": "ABX9TyPDlTRyHJn7blqkAABOLC1i",
      "include_colab_link": true
    },
    "kernelspec": {
      "name": "python3",
      "display_name": "Python 3"
    },
    "language_info": {
      "name": "python"
    }
  },
  "cells": [
    {
      "cell_type": "markdown",
      "metadata": {
        "id": "view-in-github",
        "colab_type": "text"
      },
      "source": [
        "<a href=\"https://colab.research.google.com/github/alkarps/GB.Introduction-to-mathematical-analysis/blob/hw03/hw03.ipynb\" target=\"_parent\"><img src=\"https://colab.research.google.com/assets/colab-badge.svg\" alt=\"Open In Colab\"/></a>"
      ]
    },
    {
      "cell_type": "markdown",
      "source": [
        "## Практическое задание к лекции №3"
      ],
      "metadata": {
        "id": "62UFN5cz-th3"
      }
    },
    {
      "cell_type": "markdown",
      "source": [
        "### Задание №1"
      ],
      "metadata": {
        "id": "l1nHtpgu-ynm"
      }
    },
    {
      "cell_type": "markdown",
      "source": [
        "Пусть $x_n = n^{(−1)^n}$. Доказать, что последовательность {$x_n$}: а) неограниченная; б) не является бесконечно большой."
      ],
      "metadata": {
        "id": "q1nygcjiXyY0"
      }
    },
    {
      "cell_type": "markdown",
      "source": [
        "Расчитаем первых 10 элементов:\n",
        "$$x_1=1^{(-1)^1}=1$$\n",
        "$$x_2=2^{(-1)^2}=2$$\n",
        "$$x_3=3^{(-1)^3}=\\frac{1}{3}$$\n",
        "$$x_4=4^{(-1)^4}=4$$\n",
        "$$x_5=5^{(-1)^5}=\\frac{1}{5}$$\n",
        "Отсюда видно, что:\n",
        "$$0<x_{2n}=2n<x_{2n+2}=2n+2$$ и\n",
        "$$x_{2n+1}=\\frac{1}{2n+1}>x_{2n+3}=\\frac{1}{2n+3}>0$$\n",
        "Отсюда следуюет, что для $\\forall n$ последовательности {x_n} выполняется неравенство ${x_n}>0$ $\\Rightarrow$ последовательность ограничена снизу.\n",
        "Из ранее показанных формул $\\Rightarrow$ $x_{2n}>x_{2n+1}$, что последовательность не является бесконечно большой"
      ],
      "metadata": {
        "id": "Q8M3mMO67GYP"
      }
    },
    {
      "cell_type": "markdown",
      "source": [
        "### Задание №2"
      ],
      "metadata": {
        "id": "5gIf49SQ-5I1"
      }
    },
    {
      "cell_type": "markdown",
      "source": [
        "Доказать, что последовательность {$\\sin n$} расходится."
      ],
      "metadata": {
        "id": "hKCoMXFuYm_f"
      }
    },
    {
      "cell_type": "markdown",
      "source": [
        "Пусть $\\lim_{n \\to ∞}\\sin n=P$. Тогда при произвольном фиксированном $k$ верно равенство $\\sin (k+n)=\\sin n ⋅ \\cos k + \\cos n ⋅ \\sin k$. Следовательно существует $\\lim_{n \\to ∞}\\cos n=Q$ и справедливо равенство $P=P⋅\\cos k + Q⋅\\sin k$, что не может быть. Следовательно последовательность {$\\sin n$} расходится."
      ],
      "metadata": {
        "id": "Li2nn7fG_6Pl"
      }
    },
    {
      "cell_type": "markdown",
      "source": [
        "### Задание №3"
      ],
      "metadata": {
        "id": "IHmE_ej6-6FH"
      }
    },
    {
      "cell_type": "markdown",
      "source": [
        "Найти пределы:\n",
        "1.   $\\lim_{n \\to ∞}\\frac{10n}{n^2+1}$;\n",
        "2.   $\\lim_{n \\to ∞}\\frac{n^2−n}{n−\\sqrt{n}}$;\n",
        "3.   $\\lim_{n \\to ∞}\\frac{5·3^n}{3^n−2}$."
      ],
      "metadata": {
        "id": "06d-4YVkYv9c"
      }
    },
    {
      "cell_type": "markdown",
      "source": [
        "$$\\lim_{n \\to ∞}\\frac{10⋅n}{n^2+1}=\\lim_{n \\to ∞}\\frac{10}{n+\\frac{1}{n}}=0$$"
      ],
      "metadata": {
        "id": "OyUJDOq0hCvB"
      }
    },
    {
      "cell_type": "markdown",
      "source": [
        "$$\\lim_{n \\to ∞}\\frac{n^2-n}{n-\\sqrt{n}}=\\lim_{n \\to ∞}\\frac{1-\\frac{1}{n}}{\\frac{1}{n}-\\frac{1}{n^{1.5}}}=\\frac{1-0}{0-0}=∞$$"
      ],
      "metadata": {
        "id": "bhTPoxAdhi0e"
      }
    },
    {
      "cell_type": "markdown",
      "source": [
        "$$\\lim_{n \\to ∞}\\frac{5⋅3^n}{3^n-2}=\\lim_{n \\to ∞}\\frac{5}{1-\\frac{2}{3^n}}=\\frac{5}{1-\\frac{2}{3^∞}}=\\frac{5}{1-0}=5$$"
      ],
      "metadata": {
        "id": "PY663nYVkwNg"
      }
    },
    {
      "cell_type": "markdown",
      "source": [
        "### Задание №4"
      ],
      "metadata": {
        "id": "tWC8sqWe-7De"
      }
    },
    {
      "cell_type": "markdown",
      "source": [
        "Найти предел $\\lim_{n \\to ∞}(\\sqrt{n^2+n}-n)$."
      ],
      "metadata": {
        "id": "ouGROjSCZ-cg"
      }
    },
    {
      "cell_type": "markdown",
      "source": [
        "$$\\lim_{n \\to ∞}(\\sqrt{n^2+n}-n)=\\lim_{n \\to ∞}\\frac{(\\sqrt{n^2+n}-n)⋅(\\sqrt{n^2+n}+n)}{\\sqrt{n^2+n}+n}=\\lim_{n \\to ∞}\\frac{n^2+n-n^2}{\\sqrt{n^2+n}+n}=\\lim_{n \\to ∞}\\frac{n}{\\sqrt{n^2+n}+n}=\\lim_{n \\to ∞}\\frac{1}{\\sqrt{1+\\frac{1}{n}}+1}=\\frac{1}{2}$$"
      ],
      "metadata": {
        "id": "iwxftZ13lXZ3"
      }
    },
    {
      "cell_type": "markdown",
      "source": [
        "### Задание №5"
      ],
      "metadata": {
        "id": "0w1tnPym-72L"
      }
    },
    {
      "cell_type": "markdown",
      "source": [
        "Вычислить $\\lim_{n \\to ∞}\\frac{\\sqrt{n}·\\cos n}{n+1}$."
      ],
      "metadata": {
        "id": "rs4q4ctHaQM_"
      }
    },
    {
      "cell_type": "markdown",
      "source": [
        "Так как $\\frac{-\\sqrt{n}}{n+1}≤\\frac{\\sqrt{n}\\cos{n}}{n+1}≤\\frac{\\sqrt{n}}{n+1}$ и $\\lim_{n \\to ∞}\\frac{-\\sqrt{n}}{n+1}=\\lim_{n \\to ∞}\\frac{\\sqrt{n}}{n+1}=0$ применим теорему о двух милиционерах: $$\\lim_{n \\to ∞}\\frac{\\sqrt{n}⋅\\cos{n}}{n+1}=0$$"
      ],
      "metadata": {
        "id": "P1KQQYCnmma1"
      }
    }
  ]
}