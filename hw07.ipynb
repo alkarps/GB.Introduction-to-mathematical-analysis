{
  "nbformat": 4,
  "nbformat_minor": 0,
  "metadata": {
    "colab": {
      "provenance": [],
      "authorship_tag": "ABX9TyPwBJuaZA4gC2OkV9sUCfDY",
      "include_colab_link": true
    },
    "kernelspec": {
      "name": "python3",
      "display_name": "Python 3"
    },
    "language_info": {
      "name": "python"
    }
  },
  "cells": [
    {
      "cell_type": "markdown",
      "metadata": {
        "id": "view-in-github",
        "colab_type": "text"
      },
      "source": [
        "<a href=\"https://colab.research.google.com/github/alkarps/GB.Introduction-to-mathematical-analysis/blob/hw07/hw07.ipynb\" target=\"_parent\"><img src=\"https://colab.research.google.com/assets/colab-badge.svg\" alt=\"Open In Colab\"/></a>"
      ]
    },
    {
      "cell_type": "markdown",
      "source": [
        "## Практическое задание к лекции №7"
      ],
      "metadata": {
        "id": "NVH6BEIF4TY0"
      }
    },
    {
      "cell_type": "markdown",
      "source": [
        "### Задание №1"
      ],
      "metadata": {
        "id": "wh09QCcS4VDd"
      }
    },
    {
      "cell_type": "markdown",
      "source": [
        "Найти интервалы возрастания и убывания функций:"
      ],
      "metadata": {
        "id": "wQtx3-Sg4VUh"
      }
    },
    {
      "cell_type": "markdown",
      "source": [
        "1. $f(x)=x+e^{-x}$;"
      ],
      "metadata": {
        "id": "eklxS0BbBYAw"
      }
    },
    {
      "cell_type": "markdown",
      "source": [],
      "metadata": {
        "id": "3t5ZhmLyBYOo"
      }
    },
    {
      "cell_type": "markdown",
      "source": [
        "2. $f(x)=x⋅\\ln{x}$;"
      ],
      "metadata": {
        "id": "tq_kQ9onBYgy"
      }
    },
    {
      "cell_type": "markdown",
      "source": [],
      "metadata": {
        "id": "zrrVq7JCBYt2"
      }
    },
    {
      "cell_type": "markdown",
      "source": [
        "3. $y=\\frac{1}{1-x^2}$."
      ],
      "metadata": {
        "id": "LXYlMJn1BZQp"
      }
    },
    {
      "cell_type": "markdown",
      "source": [],
      "metadata": {
        "id": "wzW_1ZQtBZkz"
      }
    },
    {
      "cell_type": "markdown",
      "source": [
        "### Задание №2"
      ],
      "metadata": {
        "id": "DkIqyuqj4VlY"
      }
    },
    {
      "cell_type": "markdown",
      "source": [
        "Найти экстремумы функций:"
      ],
      "metadata": {
        "id": "MTPQMdoR4V8B"
      }
    },
    {
      "cell_type": "markdown",
      "source": [
        "1. $f(x)=x^3-3⋅x+1$;"
      ],
      "metadata": {
        "id": "TjlkmSfABvx3"
      }
    },
    {
      "cell_type": "markdown",
      "source": [],
      "metadata": {
        "id": "A8ZqAMwXBw8U"
      }
    },
    {
      "cell_type": "markdown",
      "source": [
        "2. $y=e^{x^2-4⋅x+5}$;"
      ],
      "metadata": {
        "id": "DqdgW97IBxQ7"
      }
    },
    {
      "cell_type": "markdown",
      "source": [],
      "metadata": {
        "id": "gfVqfFZ_Bxku"
      }
    },
    {
      "cell_type": "markdown",
      "source": [
        "3. $y=x-\\arctan{x}$."
      ],
      "metadata": {
        "id": "LzgQF6OSByG0"
      }
    },
    {
      "cell_type": "markdown",
      "source": [],
      "metadata": {
        "id": "8YBYmE5_ByfK"
      }
    },
    {
      "cell_type": "markdown",
      "source": [
        "### Задание №3"
      ],
      "metadata": {
        "id": "52iayL9a4WH2"
      }
    },
    {
      "cell_type": "markdown",
      "source": [
        "Найти интервалы выпухлости и точки перегиба функций:"
      ],
      "metadata": {
        "id": "RGOClRXY4WVH"
      }
    },
    {
      "cell_type": "markdown",
      "source": [
        "1. $f(x)=e^{-x^2}$;"
      ],
      "metadata": {
        "id": "JSQKYwZSCRa8"
      }
    },
    {
      "cell_type": "markdown",
      "source": [],
      "metadata": {
        "id": "x3uClk73CRp0"
      }
    },
    {
      "cell_type": "markdown",
      "source": [
        "2. $y=\\cos{x}$;"
      ],
      "metadata": {
        "id": "QiLUrD2XCTK6"
      }
    },
    {
      "cell_type": "markdown",
      "source": [],
      "metadata": {
        "id": "PgEs-NR-CTcS"
      }
    },
    {
      "cell_type": "markdown",
      "source": [
        "3. $y=x^5-10⋅x^2+7⋅x$."
      ],
      "metadata": {
        "id": "3RhPl7LtCTtP"
      }
    },
    {
      "cell_type": "markdown",
      "source": [],
      "metadata": {
        "id": "tH6qU_ZICT7y"
      }
    },
    {
      "cell_type": "markdown",
      "source": [
        "### Задание №4"
      ],
      "metadata": {
        "id": "mugip7Hc4Wjo"
      }
    },
    {
      "cell_type": "markdown",
      "source": [
        "Найти асимптоты графиков функций:"
      ],
      "metadata": {
        "id": "ubT5yVQo4Wyp"
      }
    },
    {
      "cell_type": "markdown",
      "source": [
        "1. $y=\\frac{3⋅x}{x+2}$;"
      ],
      "metadata": {
        "id": "n56OpQ6xCszI"
      }
    },
    {
      "cell_type": "markdown",
      "source": [],
      "metadata": {
        "id": "e7iY1UUaCtNI"
      }
    },
    {
      "cell_type": "markdown",
      "source": [
        "2. $y=e^{-\\frac{1}{x}}$."
      ],
      "metadata": {
        "id": "wWpkdnDQCtzy"
      }
    },
    {
      "cell_type": "markdown",
      "source": [],
      "metadata": {
        "id": "yGznRpC-CuLE"
      }
    },
    {
      "cell_type": "markdown",
      "source": [
        "### Задание №5"
      ],
      "metadata": {
        "id": "lNotfj7C4XAm"
      }
    },
    {
      "cell_type": "markdown",
      "source": [
        "Провести  полное исследование и построить график функций:"
      ],
      "metadata": {
        "id": "ckW1FqO74khC"
      }
    },
    {
      "cell_type": "markdown",
      "source": [
        "1. $y=\\ln{(1-x^2)}$;"
      ],
      "metadata": {
        "id": "VWACnnrwC_Hz"
      }
    },
    {
      "cell_type": "markdown",
      "source": [],
      "metadata": {
        "id": "Wkzh3wctC_Zl"
      }
    },
    {
      "cell_type": "markdown",
      "source": [
        "2. $y=\\frac{x^2}{1-x^2}$;"
      ],
      "metadata": {
        "id": "DODNKjXvC_sh"
      }
    },
    {
      "cell_type": "markdown",
      "source": [],
      "metadata": {
        "id": "A3YExoLCC_97"
      }
    },
    {
      "cell_type": "markdown",
      "source": [
        "3. $y=x^2⋅e^{-x}$;"
      ],
      "metadata": {
        "id": "XWEoD6r-DAs1"
      }
    },
    {
      "cell_type": "markdown",
      "source": [],
      "metadata": {
        "id": "BFEayzmZDA4v"
      }
    },
    {
      "cell_type": "markdown",
      "source": [
        "4. $y=x-\\ln{x}$."
      ],
      "metadata": {
        "id": "2WmogVaWDBMG"
      }
    },
    {
      "cell_type": "markdown",
      "source": [],
      "metadata": {
        "id": "jbhkmnTODBfD"
      }
    }
  ]
}