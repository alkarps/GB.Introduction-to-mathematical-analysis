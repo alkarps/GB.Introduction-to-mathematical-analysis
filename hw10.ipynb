{
  "nbformat": 4,
  "nbformat_minor": 0,
  "metadata": {
    "colab": {
      "provenance": [],
      "authorship_tag": "ABX9TyOB/ttlikLfyH/71/DBf8wh",
      "include_colab_link": true
    },
    "kernelspec": {
      "name": "python3",
      "display_name": "Python 3"
    },
    "language_info": {
      "name": "python"
    }
  },
  "cells": [
    {
      "cell_type": "markdown",
      "metadata": {
        "id": "view-in-github",
        "colab_type": "text"
      },
      "source": [
        "<a href=\"https://colab.research.google.com/github/alkarps/GB.Introduction-to-mathematical-analysis/blob/hw10/hw10.ipynb\" target=\"_parent\"><img src=\"https://colab.research.google.com/assets/colab-badge.svg\" alt=\"Open In Colab\"/></a>"
      ]
    },
    {
      "cell_type": "markdown",
      "source": [
        "##Домашнее задание к лекции №10"
      ],
      "metadata": {
        "id": "lI9pQjTviWl_"
      }
    },
    {
      "cell_type": "markdown",
      "source": [
        "###Задание №1"
      ],
      "metadata": {
        "id": "9UD8ekDyiXuL"
      }
    },
    {
      "cell_type": "markdown",
      "source": [
        "1. $\\int{\\frac{x^4+x^2-6x}{x^3}}$dx;"
      ],
      "metadata": {
        "id": "HelW_DtMiZSg"
      }
    },
    {
      "cell_type": "markdown",
      "source": [
        "$$\\int{\\frac{x^4+x^2-6x}{x^3}}dx=\\int{(x+\\frac{1}{x}-\\frac{6}{x^2})}dx=\\int{x}dx+\\int{\\frac{1}{x}dx}-\\int{\\frac{6}{x^2}dx}=\\frac{x^2}{2}+\\ln{|x|}+\\frac{6}{x}+C=\\ln{|x|}+\\frac{x^3+12}{2⋅x}+C$$"
      ],
      "metadata": {
        "id": "Or8Boepbi6bR"
      }
    },
    {
      "cell_type": "markdown",
      "source": [
        "2. $\\int{cos{2x}}dx$;"
      ],
      "metadata": {
        "id": "ZGWo_cVjkE59"
      }
    },
    {
      "cell_type": "markdown",
      "source": [
        "$$\\int{cos{(2⋅x)}}dx=\\frac{\\sin{(2⋅x)}}{2}+C$$"
      ],
      "metadata": {
        "id": "XgCbbWenkakg"
      }
    },
    {
      "cell_type": "markdown",
      "source": [
        "3. $\\int{\\frac{1}{(3⋅x+2)^4}}dx$;"
      ],
      "metadata": {
        "id": "Ax51nHYXlBI_"
      }
    },
    {
      "cell_type": "markdown",
      "source": [
        "$$\\int{\\frac{1}{(3⋅x+2)^4}}dx=-\\frac{1}{9⋅(3⋅x+2)^3}+C$$"
      ],
      "metadata": {
        "id": "_0eR3ff_lMj0"
      }
    },
    {
      "cell_type": "markdown",
      "source": [
        "4. $\\int{\\frac{5⋅x-1}{\\sqrt{4-x^2}}}dx$;"
      ],
      "metadata": {
        "id": "GV-XIFs1lMuI"
      }
    },
    {
      "cell_type": "markdown",
      "source": [
        "$$\\int{\\frac{5⋅x-1}{\\sqrt{4-x^2}}}dx=\\int{\\frac{5⋅x}{\\sqrt{4-x^2}}}dx-\\int{\\frac{1}{\\sqrt{5⋅x-1}}}dx=-5⋅\\sqrt{4-x^2}-\\arcsin{\\frac{x}{2}}+C$$"
      ],
      "metadata": {
        "id": "T02d6w2ylaYt"
      }
    },
    {
      "cell_type": "markdown",
      "source": [
        "5. $\\int{\\frac{1}{\\sqrt{x}⋅(1+\\sqrt{x})}}dx$;"
      ],
      "metadata": {
        "id": "r61QcGAtlajB"
      }
    },
    {
      "cell_type": "markdown",
      "source": [
        "$$\\int{\\frac{1}{\\sqrt{x}⋅(1+\\sqrt{x})}}dx=2⋅\\ln{(\\sqrt{x}+1)}+C$$"
      ],
      "metadata": {
        "id": "Q0FQBj9Nlka_"
      }
    },
    {
      "cell_type": "markdown",
      "source": [
        "6. $\\int{x^2⋅\\cos{x}}dx$"
      ],
      "metadata": {
        "id": "0f0o9m3alkmQ"
      }
    },
    {
      "cell_type": "markdown",
      "source": [
        "$$\\int{x^2⋅\\cos{x}}dx=x^2⋅\\sin{x}-\\int{2⋅x⋅\\sin{x}}dx=x^2⋅\\sin{x}-2(-x⋅\\cos{x}+\\int{\\cos{x}}dx)=x^2⋅\\sin{x}-2⋅\\sin{x}+2⋅x⋅\\cos{x}+C$$"
      ],
      "metadata": {
        "id": "PWgv5eNelqLs"
      }
    },
    {
      "cell_type": "markdown",
      "source": [
        "7. $\\int{\\arctan{x}}dx$;"
      ],
      "metadata": {
        "id": "cz-WNf3flqYG"
      }
    },
    {
      "cell_type": "markdown",
      "source": [
        "$$\\int{\\arctan{x}}dx=x⋅\\arctan{x}-\\frac{\\ln{(x^2+1)}}{2}+C$$"
      ],
      "metadata": {
        "id": "jxxJT4coqSFD"
      }
    },
    {
      "cell_type": "markdown",
      "source": [
        "8. $\\int{\\frac{1}{(x-1)^5}}dx$;"
      ],
      "metadata": {
        "id": "p6mBapiNlyYk"
      }
    },
    {
      "cell_type": "markdown",
      "source": [
        "$$\\int{\\frac{1}{(x-1)^5}}dx=-\\frac{1}{4⋅(x-1)^4}+C$$"
      ],
      "metadata": {
        "id": "YAXVcCTYl1ZL"
      }
    },
    {
      "cell_type": "markdown",
      "source": [
        "9. $\\int{\\frac{x+6}{x^2-2⋅x+17}}dx$;"
      ],
      "metadata": {
        "id": "uuGF7aoRl1qb"
      }
    },
    {
      "cell_type": "markdown",
      "source": [
        "$$\\int{\\frac{x+6}{x^2-2⋅x+17}}dx=\\frac{1}{2}\\int{\\frac{2⋅x-2}{x^2-2⋅x+17}}dx+\\int{\\frac{7}{x^2-2⋅x+17}}dx=\\frac{\\ln{(x^2-2⋅x+17)}}{2}+\\frac{7⋅\\arctan{\\frac{x-1}{4}}}{4}+C$$"
      ],
      "metadata": {
        "id": "SviRaupol2sC"
      }
    },
    {
      "cell_type": "markdown",
      "source": [
        "10. $\\int{\\frac{x}{(x^2-1)⋅(x^2+1)}}dx$;"
      ],
      "metadata": {
        "id": "3xyu4Lg-l24d"
      }
    },
    {
      "cell_type": "markdown",
      "source": [
        "$$\\int{\\frac{x}{(x^2-1)⋅(x^2+1)}}dx=\\frac{\\ln{|x^2-1|}}{4}-\\frac{\\ln{(x^2+1)}}{4}+C$$"
      ],
      "metadata": {
        "id": "a_MPMPeal4H5"
      }
    },
    {
      "cell_type": "markdown",
      "source": [
        "11. $\\int{\\frac{\\sqrt[3]{x}}{\\sqrt[3]{x^2}-\\sqrt{x}}}dx$;"
      ],
      "metadata": {
        "id": "lJF4Aencl4Tn"
      }
    },
    {
      "cell_type": "markdown",
      "source": [
        "$$\\int{\\frac{\\sqrt[3]{x}}{\\sqrt[3]{x^2}-\\sqrt{x}}}dx=18⋅\\sqrt[3]{x}-12⋅\\sqrt[6]{x}+\\frac{3}{2}⋅(\\sqrt[6]{x}-1)^4+8⋅(\\sqrt[6]{x}-1)^3+6⋅\\ln{|\\sqrt[6]{x}-1|}+C$$"
      ],
      "metadata": {
        "id": "G_wtPRIrsK6D"
      }
    },
    {
      "cell_type": "markdown",
      "source": [
        "12. $\\int{\\sqrt[3]{x}⋅\\sqrt[3]{1+3⋅\\sqrt[3]{x^2}}}dx$;"
      ],
      "metadata": {
        "id": "9esQEfsql5dO"
      }
    },
    {
      "cell_type": "markdown",
      "source": [
        "$$\\int{\\sqrt[3]{x}⋅\\sqrt[3]{1+3⋅\\sqrt[3]{x^2}}}dx=\\frac{9⋅\\sqrt[3]{x^4}⋅\\sqrt[3]{1+3⋅\\sqrt[3]{x^2}}}{14}+\\frac{3⋅\\sqrt[3]{x^2}⋅\\sqrt[3]{1+3⋅\\sqrt[3]{x^2}}}{56}-\\frac{3⋅\\sqrt[3]{1+3⋅\\sqrt[3]{x^2}}}{56}+C$$"
      ],
      "metadata": {
        "id": "k1_5Ttc-l6d6"
      }
    },
    {
      "cell_type": "markdown",
      "source": [
        "13. $\\int{\\frac{1}{\\sin{x}⋅\\sin{(2⋅x)}}}dx$;"
      ],
      "metadata": {
        "id": "eZaNvvq-l6pg"
      }
    },
    {
      "cell_type": "markdown",
      "source": [
        "$$\\int{\\frac{1}{\\sin{x}⋅\\sin{(2⋅x)}}}dx=\\frac{\\ln{(sin{x}+1)}}{4}-\\frac{\\ln{(1-\\sin{x})}}{4}-\\frac{1}{2⋅\\sin{x}}+C$$"
      ],
      "metadata": {
        "id": "qwS136EJt8Kf"
      }
    },
    {
      "cell_type": "markdown",
      "source": [
        "14. $\\int{\\cos{(3⋅x)}⋅\\cos{(5⋅x)}}dx$;"
      ],
      "metadata": {
        "id": "xcqgyQ6Pl8ik"
      }
    },
    {
      "cell_type": "markdown",
      "source": [
        "$$\\int{\\cos{(3⋅x)}⋅\\cos{(5⋅x)}}dx=\\frac{\\sin{(8⋅x)}}{16}+\\frac{\\sin(2⋅x)}{4}+C$$"
      ],
      "metadata": {
        "id": "xTQlKUSducQg"
      }
    },
    {
      "cell_type": "markdown",
      "source": [
        "15. $\\int_{0}^{π}{(2⋅x+\\sin{(2⋅x)})}dx$;"
      ],
      "metadata": {
        "id": "DgrvP5jJl9hC"
      }
    },
    {
      "cell_type": "markdown",
      "source": [
        "$$\\int{(2⋅x+\\sin{(2⋅x)})}dx=x^2-\\frac{\\cos{(2⋅x)}}{2}+C$$\n",
        "$$\\int_{0}^{π}{(2⋅x+\\sin{(2⋅x)})}dx=π^2-\\frac{\\cos{(2⋅π)}}{2}+C-0^2+\\frac{\\cos{(2⋅0)}}{2}-C=π^2$$"
      ],
      "metadata": {
        "id": "8zVhlFTquvfE"
      }
    },
    {
      "cell_type": "markdown",
      "source": [
        "16. $\\int_{\\frac{1}{2}}^{1}{\\sqrt{4⋅x-2}}$;"
      ],
      "metadata": {
        "id": "I8xqASZal-yf"
      }
    },
    {
      "cell_type": "markdown",
      "source": [
        "$$\\int{\\sqrt{4⋅x-2}}=\\frac{2⋅x⋅\\sqrt{4⋅x-2}}{3}-\\frac{\\sqrt{4⋅x-2}}{3}+C$$\n",
        "$$\\int_{\\frac{1}{2}}^{1}{\\sqrt{4⋅x-2}}=\\frac{\\sqrt{2}}{3}$$"
      ],
      "metadata": {
        "id": "AHpfqxHmvkyI"
      }
    },
    {
      "cell_type": "markdown",
      "source": [
        "17. $\\int_{0}^{+∞}{e^{-4⋅x}}dx$;"
      ],
      "metadata": {
        "id": "Vqz_wCCsl_8M"
      }
    },
    {
      "cell_type": "markdown",
      "source": [
        "$$\\int{e^{-4⋅x}}dx=-\\frac{e^{-4⋅x}}{4}+C$$\n",
        "$$\\int_{0}^{+∞}{e^{-4⋅x}}dx=-\\frac{1}{4}$$"
      ],
      "metadata": {
        "id": "bH3Rvha5wOzi"
      }
    },
    {
      "cell_type": "markdown",
      "source": [
        "18. $\\int_{0}^{1}{\\ln{x}}dx$;"
      ],
      "metadata": {
        "id": "r7bBPvXJmA3f"
      }
    },
    {
      "cell_type": "markdown",
      "source": [
        "$$\\int={\\ln{x}}dx=x⋅\\ln{x}-x+C$$\n",
        "$$\\int_{0}^{1}{\\ln{x}}dx=-1$$"
      ],
      "metadata": {
        "id": "NNWk0-tGwqrJ"
      }
    }
  ]
}