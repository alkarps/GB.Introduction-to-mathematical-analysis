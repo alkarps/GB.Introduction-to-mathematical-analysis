{
  "nbformat": 4,
  "nbformat_minor": 0,
  "metadata": {
    "colab": {
      "provenance": [],
      "authorship_tag": "ABX9TyNfvfU4ZKJtM3DkzN8SVbw1",
      "include_colab_link": true
    },
    "kernelspec": {
      "name": "python3",
      "display_name": "Python 3"
    },
    "language_info": {
      "name": "python"
    }
  },
  "cells": [
    {
      "cell_type": "markdown",
      "metadata": {
        "id": "view-in-github",
        "colab_type": "text"
      },
      "source": [
        "<a href=\"https://colab.research.google.com/github/alkarps/GB.Introduction-to-mathematical-analysis/blob/hw10/hw10.ipynb\" target=\"_parent\"><img src=\"https://colab.research.google.com/assets/colab-badge.svg\" alt=\"Open In Colab\"/></a>"
      ]
    },
    {
      "cell_type": "markdown",
      "source": [
        "##Домашнее задание к лекции №10"
      ],
      "metadata": {
        "id": "lI9pQjTviWl_"
      }
    },
    {
      "cell_type": "markdown",
      "source": [
        "###Задание №1"
      ],
      "metadata": {
        "id": "9UD8ekDyiXuL"
      }
    },
    {
      "cell_type": "markdown",
      "source": [
        "1. $\\int{\\frac{x^4+x^2-6x}{x^3}}$dx;"
      ],
      "metadata": {
        "id": "HelW_DtMiZSg"
      }
    },
    {
      "cell_type": "markdown",
      "source": [
        "$$\\int{\\frac{x^4+x^2-6x}{x^3}}dx=\\int{(x+\\frac{1}{x}-\\frac{6}{x^2})}dx=\\int{x}dx+\\int{\\frac{1}{x}dx}-\\int{\\frac{6}{x^2}dx}=\\frac{x^2}{2}+\\ln{|x|}+\\frac{6}{x}+C=\\ln{|x|}+\\frac{x^3+12}{2⋅x}+C$$"
      ],
      "metadata": {
        "id": "Or8Boepbi6bR"
      }
    },
    {
      "cell_type": "markdown",
      "source": [
        "2. $\\int{cos{2x}}dx$"
      ],
      "metadata": {
        "id": "ZGWo_cVjkE59"
      }
    },
    {
      "cell_type": "markdown",
      "source": [
        "$$\\int{cos{(2⋅x)}}dx=\\frac{\\sin{(2⋅x)}}{2}+C$$"
      ],
      "metadata": {
        "id": "XgCbbWenkakg"
      }
    }
  ]
}